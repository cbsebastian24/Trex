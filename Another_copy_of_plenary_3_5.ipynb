{
  "nbformat": 4,
  "nbformat_minor": 0,
  "metadata": {
    "colab": {
      "provenance": [],
      "include_colab_link": true
    },
    "kernelspec": {
      "name": "python3",
      "display_name": "Python 3"
    },
    "language_info": {
      "name": "python"
    }
  },
  "cells": [
    {
      "cell_type": "markdown",
      "metadata": {
        "id": "view-in-github",
        "colab_type": "text"
      },
      "source": [
        "<a href=\"https://colab.research.google.com/github/cbsebastian24/Trex/blob/main/Another_copy_of_plenary_3_5.ipynb\" target=\"_parent\"><img src=\"https://colab.research.google.com/assets/colab-badge.svg\" alt=\"Open In Colab\"/></a>"
      ]
    },
    {
      "cell_type": "markdown",
      "source": [
        "# Confidence Intervals (cont.) with COVID-19 Hospitalization Data"
      ],
      "metadata": {
        "id": "z1I75Csf43lI"
      }
    },
    {
      "cell_type": "markdown",
      "source": [
        "The COVID-19 Hospitalization Surveillance Network (COVID-NET) is a network that conducts active, population-based surveillance for laboratory-confirmed COVID-19-associated hospitalizations among children and adults.\n",
        "\n",
        "COVID-NET is the CDC’s source for important data on rates of hospitalizations associated with COVID-19. **The monthly hospitalization rates represent the number of COVID-19 hospitalizations (not percent) per 100,000 population in the surveillance area.**\n",
        "\n",
        "We will continue using this data to conduct hypothesis tests and construct confidence intervals.\n"
      ],
      "metadata": {
        "id": "v6ulqebc48Lr"
      }
    },
    {
      "cell_type": "markdown",
      "source": [
        "## Load the data"
      ],
      "metadata": {
        "id": "2Z6MeIBu5F0M"
      }
    },
    {
      "cell_type": "code",
      "execution_count": null,
      "metadata": {
        "id": "HgrwJSKIQELw"
      },
      "outputs": [],
      "source": [
        "import pandas as pd\n",
        "import seaborn as sb\n",
        "import matplotlib.pyplot as plt\n",
        "import numpy as np"
      ]
    },
    {
      "cell_type": "code",
      "source": [
        "file_path = \"https://raw.githubusercontent.com/UM-Data-Science-101/data-FA2025/refs/heads/main/Monthly_Rates_of_Laboratory-Confirmed_COVID-19_Hospitalizations_from_the_COVID-NET_Surveillance_System_Cleaned.csv\" # REPLACE\n",
        "df = pd.read_csv(file_path)"
      ],
      "metadata": {
        "id": "PWPFfj1RQHrD"
      },
      "execution_count": null,
      "outputs": []
    },
    {
      "cell_type": "code",
      "source": [
        "df.shape"
      ],
      "metadata": {
        "id": "Ow3S2uE7Y5V-"
      },
      "execution_count": null,
      "outputs": []
    },
    {
      "cell_type": "code",
      "source": [
        "df.columns"
      ],
      "metadata": {
        "id": "cyDawjKYnUca"
      },
      "execution_count": null,
      "outputs": []
    },
    {
      "cell_type": "code",
      "source": [
        "df.head()"
      ],
      "metadata": {
        "id": "iiZP3K43qL1w"
      },
      "execution_count": null,
      "outputs": []
    },
    {
      "cell_type": "markdown",
      "source": [
        "## Confidence Intervals"
      ],
      "metadata": {
        "id": "-lCWrkjXTXL5"
      }
    },
    {
      "cell_type": "markdown",
      "source": [
        "### Question: Is the average monthly COVID-19 hospitalization rate for White, non-Hispanic Californians during the 2022-23 season 20 per 100,000? Use $\\alpha = 0.0015$."
      ],
      "metadata": {
        "id": "AH-13GzsTQ8R"
      }
    },
    {
      "cell_type": "markdown",
      "source": [
        "Step 1: State the null and alternative hypotheses."
      ],
      "metadata": {
        "id": "v28n82qcUCYw"
      }
    },
    {
      "cell_type": "markdown",
      "source": [
        "*Replace this text with your answer*"
      ],
      "metadata": {
        "id": "QjfrYFpqUCYw"
      }
    },
    {
      "cell_type": "markdown",
      "source": [
        "<details>\n",
        "\n",
        "$$\n",
        "H_0: \\text{The average monthly COVID-19 hospitalization rate for White Californians during the 2022-23 season is 20 per 100,000} \\\\\n",
        "H_1: \\text{The average monthly COVID-19 hospitalization rate for White Californians during the 2022-23 season is not 20 per 100,000}\n",
        "$$\n",
        "</details>"
      ],
      "metadata": {
        "id": "aHt79cx6UCYx"
      }
    },
    {
      "cell_type": "markdown",
      "source": [
        "Step 2: Create a subset of df (Hint: You only want the entries where the State is California, the Season is 2022-23, the Age Category is All, the Sex Label is All, the Race Label is White, non-Hispanic, and the Type of rate is Crude Rate)."
      ],
      "metadata": {
        "id": "y5PJkF6MUCYy"
      }
    },
    {
      "cell_type": "code",
      "source": [
        "subset = df[\n",
        "    (df['State'] == 'California') &\n",
        "    (df['Season'] == '2022-23') &\n",
        "    (df['AgeCategory_Legend'] == 'All') &\n",
        "    (df['Sex_Label'] == 'All') &\n",
        "    (df['Race_Label'] == 'White, non-Hispanic') &\n",
        "    (df['Type'] == 'Crude Rate')\n",
        "]"
      ],
      "metadata": {
        "id": "ahE5v_4RUCYy"
      },
      "execution_count": null,
      "outputs": []
    },
    {
      "cell_type": "markdown",
      "source": [
        "<details>\n",
        "\n",
        "````\n",
        "subset = df[\n",
        "    (df['State'] == 'California') &\n",
        "    (df['Season'] == '2022-23') &\n",
        "    (df['AgeCategory_Legend'] == 'All') &\n",
        "    (df['Sex_Label'] == 'All') &\n",
        "    (df['Race_Label'] == 'White, non-Hispanic') &\n",
        "    (df['Type'] == 'Crude Rate')\n",
        "]\n",
        "````\n",
        "</details>"
      ],
      "metadata": {
        "id": "r39b6VL9UCYz"
      }
    },
    {
      "cell_type": "markdown",
      "source": [
        "Step 3: Calculate the SEM."
      ],
      "metadata": {
        "id": "Sy82l933UCYz"
      }
    },
    {
      "cell_type": "code",
      "source": [],
      "metadata": {
        "id": "wcduAOQ4Ulu8"
      },
      "execution_count": null,
      "outputs": []
    },
    {
      "cell_type": "markdown",
      "source": [
        "<details>\n",
        "\n",
        "````\n",
        "californian_rates = subset['MonthlyRate']\n",
        "sem = californian_rates.std() / np.sqrt(len(californian_rates))\n",
        "````\n",
        "</details>"
      ],
      "metadata": {
        "id": "08a_rb6gUCYz"
      }
    },
    {
      "cell_type": "markdown",
      "source": [
        "Step 4: Calculate the confidence interval."
      ],
      "metadata": {
        "id": "qrdPSTt5VF12"
      }
    },
    {
      "cell_type": "code",
      "source": [],
      "metadata": {
        "id": "sIapwUqLVF12"
      },
      "execution_count": null,
      "outputs": []
    },
    {
      "cell_type": "markdown",
      "source": [
        "<details>\n",
        "\n",
        "````\n",
        "xbar = californian_rates.mean()\n",
        "(xbar - 3*sem, xbar + 3*sem)\n",
        "````\n",
        "\n",
        "</details>"
      ],
      "metadata": {
        "id": "ISnqAZLlVF13"
      }
    },
    {
      "cell_type": "markdown",
      "source": [
        "Step 5: What does this confidence interval tell us? Does the hypothesized rate of 20 fall inside or outside of the interval? What conclusion can you draw?"
      ],
      "metadata": {
        "id": "ZSh9kJDmVF13"
      }
    },
    {
      "cell_type": "markdown",
      "source": [
        "*Replace this text with your answer*"
      ],
      "metadata": {
        "id": "jjBa7-1QVF13"
      }
    },
    {
      "cell_type": "markdown",
      "source": [
        "<details>\n",
        "\n",
        "This confidence interval means that we are 99.7% confident that the true mean hospitalization rate lies between 19.01 and 36.07 per 100,000. The hypothesized rate of 20 falls inside of the confidence interval. Therefore, we cannot say that the true mean rate is significantly different from 20.\n",
        "\n",
        "</details>"
      ],
      "metadata": {
        "id": "TB1OtZcNVF13"
      }
    },
    {
      "cell_type": "markdown",
      "source": [
        "### Question: Is the average monthly COVID-19 hospitalization rate for male Michiganders between 2021 and 2023 greater than 30 per 100,000? Use $\\alpha = 0.05$."
      ],
      "metadata": {
        "id": "NYLZDefwjSMv"
      }
    },
    {
      "cell_type": "markdown",
      "source": [
        "Conduct a hypothesis test on your own using confidence intervals."
      ],
      "metadata": {
        "id": "lyMjRHGEjoU_"
      }
    },
    {
      "cell_type": "code",
      "source": [],
      "metadata": {
        "id": "2jGMcoEwjmd6"
      },
      "execution_count": null,
      "outputs": []
    },
    {
      "cell_type": "markdown",
      "source": [
        "*Replace this text with your answer*"
      ],
      "metadata": {
        "id": "8gjO9eIUkuw9"
      }
    },
    {
      "cell_type": "markdown",
      "source": [
        "<details>\n",
        "\n",
        "$$H_0: \\text{The average monthly rate for male Michiganders between 2021 and 2023 is less than or equal to 30 per 100,000} \\\\\n",
        "H_1: \\text{The average monthly rate for male Michiganders between 2021 and 2023 is greater than 30 per 100,000}$$\n",
        "\n",
        "````\n",
        "subset = df[\n",
        "    (df['State'] == 'Michigan') &\n",
        "    (df['Year'].isin([2021, 2022, 2023])) &\n",
        "    (df['AgeCategory_Legend'] == 'All') &\n",
        "    (df['Sex_Label'] == 'Male') &\n",
        "    (df['Race_Label'] == 'All') &\n",
        "    (df['Type'] == 'Crude Rate')\n",
        "]\n",
        "\n",
        "michigan_rates = subset['MonthlyRate']\n",
        "sem = michigan_rates.std() / np.sqrt(len(michigan_rates))\n",
        "\n",
        "import math\n",
        "\n",
        "xbar = michigan_rates.mean()\n",
        "(xbar - 2*sem, math.inf)\n",
        "````\n",
        "We can be 95% confident that the true average monthly COVID-19 hospitalization rate for male Michiganders between 2021 and 2023 was at least 27.40 per 100,000, and the evidence does not support the claim that it exceeded 30. Therefore, we would fail to reject the null hypothesis.\n",
        "\n",
        "</details>"
      ],
      "metadata": {
        "id": "FaPuZiSmju-g"
      }
    },
    {
      "cell_type": "code",
      "source": [],
      "metadata": {
        "id": "qq_InbgJxo8S"
      },
      "execution_count": null,
      "outputs": []
    }
  ]
}