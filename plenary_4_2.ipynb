{
  "nbformat": 4,
  "nbformat_minor": 0,
  "metadata": {
    "colab": {
      "provenance": [],
      "include_colab_link": true
    },
    "kernelspec": {
      "name": "python3",
      "display_name": "Python 3"
    },
    "language_info": {
      "name": "python"
    }
  },
  "cells": [
    {
      "cell_type": "markdown",
      "metadata": {
        "id": "view-in-github",
        "colab_type": "text"
      },
      "source": [
        "<a href=\"https://colab.research.google.com/github/cbsebastian24/Trex/blob/main/plenary_4_2.ipynb\" target=\"_parent\"><img src=\"https://colab.research.google.com/assets/colab-badge.svg\" alt=\"Open In Colab\"/></a>"
      ]
    },
    {
      "cell_type": "markdown",
      "source": [
        "# Distributions with NFL Data\n"
      ],
      "metadata": {
        "id": "z1I75Csf43lI"
      }
    },
    {
      "cell_type": "markdown",
      "source": [
        "## Load the data"
      ],
      "metadata": {
        "id": "2Z6MeIBu5F0M"
      }
    },
    {
      "cell_type": "markdown",
      "source": [
        "These data record play-by-play information for all games in the 2022 National Football League (NFL) season. These data were downloaded using the `nflverse` package for the R programming language (another statistics and data science environment), lightly edited, and saved in a tabular format for us to use in Python."
      ],
      "metadata": {
        "id": "bj1Sq8h27YDi"
      }
    },
    {
      "cell_type": "code",
      "execution_count": null,
      "metadata": {
        "id": "HgrwJSKIQELw"
      },
      "outputs": [],
      "source": [
        "import pandas as pd\n",
        "import seaborn as sb\n",
        "import matplotlib.pyplot as plt\n",
        "import numpy as np"
      ]
    },
    {
      "cell_type": "code",
      "source": [
        "file_path = \"https://github.com/UM-Data-Science-101/lab-11/raw/refs/heads/main/NFL_play_by_play_2022.csv.gz\"\n",
        "nfl = pd.read_csv(file_path)"
      ],
      "metadata": {
        "id": "PWPFfj1RQHrD"
      },
      "execution_count": null,
      "outputs": []
    },
    {
      "cell_type": "code",
      "source": [
        "nfl.shape"
      ],
      "metadata": {
        "colab": {
          "base_uri": "https://localhost:8080/"
        },
        "id": "Ow3S2uE7Y5V-",
        "outputId": "a28bb736-bee0-44a6-c815-ccbaa184599c"
      },
      "execution_count": null,
      "outputs": [
        {
          "output_type": "execute_result",
          "data": {
            "text/plain": [
              "(50147, 340)"
            ]
          },
          "metadata": {},
          "execution_count": 5
        }
      ]
    },
    {
      "cell_type": "markdown",
      "source": [
        "There are many measurements for each play, some of which are computed values from `nflverse`. Here's a brief list using a data dictionary."
      ],
      "metadata": {
        "id": "LBN3SDVQvE4E"
      }
    },
    {
      "cell_type": "code",
      "source": [
        "nfl_data_dictionary = pd.read_csv(\"https://github.com/UM-Data-Science-101/lab-11/raw/refs/heads/main/NFL_play_by_play_data_dictonary.csv\", index_col = \"Field\")\n",
        "nfl_data_dictionary.loc[[\"play_id\", \"game_id\", \"home_team\", \"away_team\", \"posteam\",\n",
        "                         \"defteam\", \"yardline_100\", \"down\", \"ydstogo\",\n",
        "                        \"touchdown\", \"play_type\"]]"
      ],
      "metadata": {
        "colab": {
          "base_uri": "https://localhost:8080/",
          "height": 425
        },
        "id": "skK60tnZu_i8",
        "outputId": "7d8a5d66-2664-4976-8cab-22fc6f6360d0"
      },
      "execution_count": null,
      "outputs": [
        {
          "output_type": "execute_result",
          "data": {
            "text/plain": [
              "                                                    Description       Type\n",
              "Field                                                                     \n",
              "play_id       Numeric play id that when used with game_id an...    numeric\n",
              "game_id                      Ten digit identifier for NFL game.  character\n",
              "home_team                String abbreviation for the home team.  character\n",
              "away_team                String abbreviation for the away team.  character\n",
              "posteam       String abbreviation for the team with possession.  character\n",
              "defteam            String abbreviation for the team on defense.  character\n",
              "yardline_100  Numeric distance in the number of yards from t...    numeric\n",
              "down                               The down for the given play.    numeric\n",
              "ydstogo       Numeric yards in distance from either the firs...    numeric\n",
              "touchdown     Binary indicator for if the play resulted in a...    numeric\n",
              "play_type     String indicating the type of play: pass (incl...  character"
            ],
            "text/html": [
              "\n",
              "  <div id=\"df-209ada45-e9bd-414d-99f8-e0229f42deca\" class=\"colab-df-container\">\n",
              "    <div>\n",
              "<style scoped>\n",
              "    .dataframe tbody tr th:only-of-type {\n",
              "        vertical-align: middle;\n",
              "    }\n",
              "\n",
              "    .dataframe tbody tr th {\n",
              "        vertical-align: top;\n",
              "    }\n",
              "\n",
              "    .dataframe thead th {\n",
              "        text-align: right;\n",
              "    }\n",
              "</style>\n",
              "<table border=\"1\" class=\"dataframe\">\n",
              "  <thead>\n",
              "    <tr style=\"text-align: right;\">\n",
              "      <th></th>\n",
              "      <th>Description</th>\n",
              "      <th>Type</th>\n",
              "    </tr>\n",
              "    <tr>\n",
              "      <th>Field</th>\n",
              "      <th></th>\n",
              "      <th></th>\n",
              "    </tr>\n",
              "  </thead>\n",
              "  <tbody>\n",
              "    <tr>\n",
              "      <th>play_id</th>\n",
              "      <td>Numeric play id that when used with game_id an...</td>\n",
              "      <td>numeric</td>\n",
              "    </tr>\n",
              "    <tr>\n",
              "      <th>game_id</th>\n",
              "      <td>Ten digit identifier for NFL game.</td>\n",
              "      <td>character</td>\n",
              "    </tr>\n",
              "    <tr>\n",
              "      <th>home_team</th>\n",
              "      <td>String abbreviation for the home team.</td>\n",
              "      <td>character</td>\n",
              "    </tr>\n",
              "    <tr>\n",
              "      <th>away_team</th>\n",
              "      <td>String abbreviation for the away team.</td>\n",
              "      <td>character</td>\n",
              "    </tr>\n",
              "    <tr>\n",
              "      <th>posteam</th>\n",
              "      <td>String abbreviation for the team with possession.</td>\n",
              "      <td>character</td>\n",
              "    </tr>\n",
              "    <tr>\n",
              "      <th>defteam</th>\n",
              "      <td>String abbreviation for the team on defense.</td>\n",
              "      <td>character</td>\n",
              "    </tr>\n",
              "    <tr>\n",
              "      <th>yardline_100</th>\n",
              "      <td>Numeric distance in the number of yards from t...</td>\n",
              "      <td>numeric</td>\n",
              "    </tr>\n",
              "    <tr>\n",
              "      <th>down</th>\n",
              "      <td>The down for the given play.</td>\n",
              "      <td>numeric</td>\n",
              "    </tr>\n",
              "    <tr>\n",
              "      <th>ydstogo</th>\n",
              "      <td>Numeric yards in distance from either the firs...</td>\n",
              "      <td>numeric</td>\n",
              "    </tr>\n",
              "    <tr>\n",
              "      <th>touchdown</th>\n",
              "      <td>Binary indicator for if the play resulted in a...</td>\n",
              "      <td>numeric</td>\n",
              "    </tr>\n",
              "    <tr>\n",
              "      <th>play_type</th>\n",
              "      <td>String indicating the type of play: pass (incl...</td>\n",
              "      <td>character</td>\n",
              "    </tr>\n",
              "  </tbody>\n",
              "</table>\n",
              "</div>\n",
              "    <div class=\"colab-df-buttons\">\n",
              "\n",
              "  <div class=\"colab-df-container\">\n",
              "    <button class=\"colab-df-convert\" onclick=\"convertToInteractive('df-209ada45-e9bd-414d-99f8-e0229f42deca')\"\n",
              "            title=\"Convert this dataframe to an interactive table.\"\n",
              "            style=\"display:none;\">\n",
              "\n",
              "  <svg xmlns=\"http://www.w3.org/2000/svg\" height=\"24px\" viewBox=\"0 -960 960 960\">\n",
              "    <path d=\"M120-120v-720h720v720H120Zm60-500h600v-160H180v160Zm220 220h160v-160H400v160Zm0 220h160v-160H400v160ZM180-400h160v-160H180v160Zm440 0h160v-160H620v160ZM180-180h160v-160H180v160Zm440 0h160v-160H620v160Z\"/>\n",
              "  </svg>\n",
              "    </button>\n",
              "\n",
              "  <style>\n",
              "    .colab-df-container {\n",
              "      display:flex;\n",
              "      gap: 12px;\n",
              "    }\n",
              "\n",
              "    .colab-df-convert {\n",
              "      background-color: #E8F0FE;\n",
              "      border: none;\n",
              "      border-radius: 50%;\n",
              "      cursor: pointer;\n",
              "      display: none;\n",
              "      fill: #1967D2;\n",
              "      height: 32px;\n",
              "      padding: 0 0 0 0;\n",
              "      width: 32px;\n",
              "    }\n",
              "\n",
              "    .colab-df-convert:hover {\n",
              "      background-color: #E2EBFA;\n",
              "      box-shadow: 0px 1px 2px rgba(60, 64, 67, 0.3), 0px 1px 3px 1px rgba(60, 64, 67, 0.15);\n",
              "      fill: #174EA6;\n",
              "    }\n",
              "\n",
              "    .colab-df-buttons div {\n",
              "      margin-bottom: 4px;\n",
              "    }\n",
              "\n",
              "    [theme=dark] .colab-df-convert {\n",
              "      background-color: #3B4455;\n",
              "      fill: #D2E3FC;\n",
              "    }\n",
              "\n",
              "    [theme=dark] .colab-df-convert:hover {\n",
              "      background-color: #434B5C;\n",
              "      box-shadow: 0px 1px 3px 1px rgba(0, 0, 0, 0.15);\n",
              "      filter: drop-shadow(0px 1px 2px rgba(0, 0, 0, 0.3));\n",
              "      fill: #FFFFFF;\n",
              "    }\n",
              "  </style>\n",
              "\n",
              "    <script>\n",
              "      const buttonEl =\n",
              "        document.querySelector('#df-209ada45-e9bd-414d-99f8-e0229f42deca button.colab-df-convert');\n",
              "      buttonEl.style.display =\n",
              "        google.colab.kernel.accessAllowed ? 'block' : 'none';\n",
              "\n",
              "      async function convertToInteractive(key) {\n",
              "        const element = document.querySelector('#df-209ada45-e9bd-414d-99f8-e0229f42deca');\n",
              "        const dataTable =\n",
              "          await google.colab.kernel.invokeFunction('convertToInteractive',\n",
              "                                                    [key], {});\n",
              "        if (!dataTable) return;\n",
              "\n",
              "        const docLinkHtml = 'Like what you see? Visit the ' +\n",
              "          '<a target=\"_blank\" href=https://colab.research.google.com/notebooks/data_table.ipynb>data table notebook</a>'\n",
              "          + ' to learn more about interactive tables.';\n",
              "        element.innerHTML = '';\n",
              "        dataTable['output_type'] = 'display_data';\n",
              "        await google.colab.output.renderOutput(dataTable, element);\n",
              "        const docLink = document.createElement('div');\n",
              "        docLink.innerHTML = docLinkHtml;\n",
              "        element.appendChild(docLink);\n",
              "      }\n",
              "    </script>\n",
              "  </div>\n",
              "\n",
              "\n",
              "    <div id=\"df-8e454e9d-7263-403d-b023-0f749652c122\">\n",
              "      <button class=\"colab-df-quickchart\" onclick=\"quickchart('df-8e454e9d-7263-403d-b023-0f749652c122')\"\n",
              "                title=\"Suggest charts\"\n",
              "                style=\"display:none;\">\n",
              "\n",
              "<svg xmlns=\"http://www.w3.org/2000/svg\" height=\"24px\"viewBox=\"0 0 24 24\"\n",
              "     width=\"24px\">\n",
              "    <g>\n",
              "        <path d=\"M19 3H5c-1.1 0-2 .9-2 2v14c0 1.1.9 2 2 2h14c1.1 0 2-.9 2-2V5c0-1.1-.9-2-2-2zM9 17H7v-7h2v7zm4 0h-2V7h2v10zm4 0h-2v-4h2v4z\"/>\n",
              "    </g>\n",
              "</svg>\n",
              "      </button>\n",
              "\n",
              "<style>\n",
              "  .colab-df-quickchart {\n",
              "      --bg-color: #E8F0FE;\n",
              "      --fill-color: #1967D2;\n",
              "      --hover-bg-color: #E2EBFA;\n",
              "      --hover-fill-color: #174EA6;\n",
              "      --disabled-fill-color: #AAA;\n",
              "      --disabled-bg-color: #DDD;\n",
              "  }\n",
              "\n",
              "  [theme=dark] .colab-df-quickchart {\n",
              "      --bg-color: #3B4455;\n",
              "      --fill-color: #D2E3FC;\n",
              "      --hover-bg-color: #434B5C;\n",
              "      --hover-fill-color: #FFFFFF;\n",
              "      --disabled-bg-color: #3B4455;\n",
              "      --disabled-fill-color: #666;\n",
              "  }\n",
              "\n",
              "  .colab-df-quickchart {\n",
              "    background-color: var(--bg-color);\n",
              "    border: none;\n",
              "    border-radius: 50%;\n",
              "    cursor: pointer;\n",
              "    display: none;\n",
              "    fill: var(--fill-color);\n",
              "    height: 32px;\n",
              "    padding: 0;\n",
              "    width: 32px;\n",
              "  }\n",
              "\n",
              "  .colab-df-quickchart:hover {\n",
              "    background-color: var(--hover-bg-color);\n",
              "    box-shadow: 0 1px 2px rgba(60, 64, 67, 0.3), 0 1px 3px 1px rgba(60, 64, 67, 0.15);\n",
              "    fill: var(--button-hover-fill-color);\n",
              "  }\n",
              "\n",
              "  .colab-df-quickchart-complete:disabled,\n",
              "  .colab-df-quickchart-complete:disabled:hover {\n",
              "    background-color: var(--disabled-bg-color);\n",
              "    fill: var(--disabled-fill-color);\n",
              "    box-shadow: none;\n",
              "  }\n",
              "\n",
              "  .colab-df-spinner {\n",
              "    border: 2px solid var(--fill-color);\n",
              "    border-color: transparent;\n",
              "    border-bottom-color: var(--fill-color);\n",
              "    animation:\n",
              "      spin 1s steps(1) infinite;\n",
              "  }\n",
              "\n",
              "  @keyframes spin {\n",
              "    0% {\n",
              "      border-color: transparent;\n",
              "      border-bottom-color: var(--fill-color);\n",
              "      border-left-color: var(--fill-color);\n",
              "    }\n",
              "    20% {\n",
              "      border-color: transparent;\n",
              "      border-left-color: var(--fill-color);\n",
              "      border-top-color: var(--fill-color);\n",
              "    }\n",
              "    30% {\n",
              "      border-color: transparent;\n",
              "      border-left-color: var(--fill-color);\n",
              "      border-top-color: var(--fill-color);\n",
              "      border-right-color: var(--fill-color);\n",
              "    }\n",
              "    40% {\n",
              "      border-color: transparent;\n",
              "      border-right-color: var(--fill-color);\n",
              "      border-top-color: var(--fill-color);\n",
              "    }\n",
              "    60% {\n",
              "      border-color: transparent;\n",
              "      border-right-color: var(--fill-color);\n",
              "    }\n",
              "    80% {\n",
              "      border-color: transparent;\n",
              "      border-right-color: var(--fill-color);\n",
              "      border-bottom-color: var(--fill-color);\n",
              "    }\n",
              "    90% {\n",
              "      border-color: transparent;\n",
              "      border-bottom-color: var(--fill-color);\n",
              "    }\n",
              "  }\n",
              "</style>\n",
              "\n",
              "      <script>\n",
              "        async function quickchart(key) {\n",
              "          const quickchartButtonEl =\n",
              "            document.querySelector('#' + key + ' button');\n",
              "          quickchartButtonEl.disabled = true;  // To prevent multiple clicks.\n",
              "          quickchartButtonEl.classList.add('colab-df-spinner');\n",
              "          try {\n",
              "            const charts = await google.colab.kernel.invokeFunction(\n",
              "                'suggestCharts', [key], {});\n",
              "          } catch (error) {\n",
              "            console.error('Error during call to suggestCharts:', error);\n",
              "          }\n",
              "          quickchartButtonEl.classList.remove('colab-df-spinner');\n",
              "          quickchartButtonEl.classList.add('colab-df-quickchart-complete');\n",
              "        }\n",
              "        (() => {\n",
              "          let quickchartButtonEl =\n",
              "            document.querySelector('#df-8e454e9d-7263-403d-b023-0f749652c122 button');\n",
              "          quickchartButtonEl.style.display =\n",
              "            google.colab.kernel.accessAllowed ? 'block' : 'none';\n",
              "        })();\n",
              "      </script>\n",
              "    </div>\n",
              "\n",
              "    </div>\n",
              "  </div>\n"
            ],
            "application/vnd.google.colaboratory.intrinsic+json": {
              "type": "dataframe",
              "summary": "{\n  \"name\": \"                        \\\"touchdown\\\", \\\"play_type\\\"]]\",\n  \"rows\": 11,\n  \"fields\": [\n    {\n      \"column\": \"Field\",\n      \"properties\": {\n        \"dtype\": \"string\",\n        \"num_unique_values\": 11,\n        \"samples\": [\n          \"defteam\",\n          \"play_id\",\n          \"touchdown\"\n        ],\n        \"semantic_type\": \"\",\n        \"description\": \"\"\n      }\n    },\n    {\n      \"column\": \"Description\",\n      \"properties\": {\n        \"dtype\": \"string\",\n        \"num_unique_values\": 11,\n        \"samples\": [\n          \"String abbreviation for the team on defense.\",\n          \"Numeric play id that when used with game_id and drive provides the unique identifier for a single play.\",\n          \"Binary indicator for if the play resulted in a TD.\"\n        ],\n        \"semantic_type\": \"\",\n        \"description\": \"\"\n      }\n    },\n    {\n      \"column\": \"Type\",\n      \"properties\": {\n        \"dtype\": \"category\",\n        \"num_unique_values\": 2,\n        \"samples\": [\n          \"character\",\n          \"numeric\"\n        ],\n        \"semantic_type\": \"\",\n        \"description\": \"\"\n      }\n    }\n  ]\n}"
            }
          },
          "metadata": {},
          "execution_count": 8
        }
      ]
    },
    {
      "cell_type": "markdown",
      "metadata": {
        "id": "05B7S1Pl7j1r"
      },
      "source": [
        "Use the data dictionary to look up the `game_seconds_remaining` column's definition."
      ]
    },
    {
      "cell_type": "code",
      "metadata": {
        "id": "2LZrwfhX7j1r"
      },
      "source": [],
      "execution_count": null,
      "outputs": []
    },
    {
      "cell_type": "markdown",
      "source": [
        "<details>\n",
        "\n",
        "````\n",
        "nfl_data_dictionary.loc[[\"game_seconds_remaining\"]]\n",
        "````\n",
        "</details>"
      ],
      "metadata": {
        "id": "P7aFkzfAwEG4"
      }
    },
    {
      "cell_type": "markdown",
      "source": [
        "## Value Counts"
      ],
      "metadata": {
        "id": "uGjM4guSwSzb"
      }
    },
    {
      "cell_type": "markdown",
      "metadata": {
        "id": "uLjiLIdq7j1r"
      },
      "source": [
        "The `value_counts()` method is used to compute the frequency of unique values in a Series. It returns a new Series where the index represents the unique values from the original Series, and the values represent their respective counts. This method is typically used on categorical variables (Why do you think that is?)\n",
        "\n",
        "In the example below, we can see the distribution of the `play_type` variable. Specifically, we're seeing the number of plays in the dataset that were passes, runs, etc."
      ]
    },
    {
      "cell_type": "code",
      "source": [
        "nfl[\"play_type\"].value_counts()"
      ],
      "metadata": {
        "colab": {
          "base_uri": "https://localhost:8080/",
          "height": 397
        },
        "id": "pps7fZt8yGEJ",
        "outputId": "6f2c4a23-0c07-4e54-c4e9-ffaee32c994a"
      },
      "execution_count": null,
      "outputs": [
        {
          "output_type": "execute_result",
          "data": {
            "text/plain": [
              "play_type\n",
              "pass           20393\n",
              "run            15037\n",
              "no_play         4563\n",
              "kickoff         2835\n",
              "punt            2294\n",
              "extra_point     1253\n",
              "field_goal      1105\n",
              "qb_kneel         442\n",
              "qb_spike          63\n",
              "Name: count, dtype: int64"
            ],
            "text/html": [
              "<div>\n",
              "<style scoped>\n",
              "    .dataframe tbody tr th:only-of-type {\n",
              "        vertical-align: middle;\n",
              "    }\n",
              "\n",
              "    .dataframe tbody tr th {\n",
              "        vertical-align: top;\n",
              "    }\n",
              "\n",
              "    .dataframe thead th {\n",
              "        text-align: right;\n",
              "    }\n",
              "</style>\n",
              "<table border=\"1\" class=\"dataframe\">\n",
              "  <thead>\n",
              "    <tr style=\"text-align: right;\">\n",
              "      <th></th>\n",
              "      <th>count</th>\n",
              "    </tr>\n",
              "    <tr>\n",
              "      <th>play_type</th>\n",
              "      <th></th>\n",
              "    </tr>\n",
              "  </thead>\n",
              "  <tbody>\n",
              "    <tr>\n",
              "      <th>pass</th>\n",
              "      <td>20393</td>\n",
              "    </tr>\n",
              "    <tr>\n",
              "      <th>run</th>\n",
              "      <td>15037</td>\n",
              "    </tr>\n",
              "    <tr>\n",
              "      <th>no_play</th>\n",
              "      <td>4563</td>\n",
              "    </tr>\n",
              "    <tr>\n",
              "      <th>kickoff</th>\n",
              "      <td>2835</td>\n",
              "    </tr>\n",
              "    <tr>\n",
              "      <th>punt</th>\n",
              "      <td>2294</td>\n",
              "    </tr>\n",
              "    <tr>\n",
              "      <th>extra_point</th>\n",
              "      <td>1253</td>\n",
              "    </tr>\n",
              "    <tr>\n",
              "      <th>field_goal</th>\n",
              "      <td>1105</td>\n",
              "    </tr>\n",
              "    <tr>\n",
              "      <th>qb_kneel</th>\n",
              "      <td>442</td>\n",
              "    </tr>\n",
              "    <tr>\n",
              "      <th>qb_spike</th>\n",
              "      <td>63</td>\n",
              "    </tr>\n",
              "  </tbody>\n",
              "</table>\n",
              "</div><br><label><b>dtype:</b> int64</label>"
            ]
          },
          "metadata": {},
          "execution_count": 13
        }
      ]
    },
    {
      "cell_type": "markdown",
      "source": [
        "Calculate the proportion of plays that resulted in touchdowns. (Hint: You can use the `normalize=True` flag with the `value_counts()` method to get proportions instead of counts)."
      ],
      "metadata": {
        "id": "TKmE7jR_yiNd"
      }
    },
    {
      "cell_type": "code",
      "source": [],
      "metadata": {
        "id": "DGSNYR51yrxG"
      },
      "execution_count": null,
      "outputs": []
    },
    {
      "cell_type": "markdown",
      "source": [
        "<details>\n",
        "\n",
        "````\n",
        "nfl[\"touchdown\"].value_counts(normalize=True)\n",
        "````\n",
        "\n",
        "</details>"
      ],
      "metadata": {
        "id": "B9M04KfEyr6f"
      }
    },
    {
      "cell_type": "markdown",
      "source": [
        "## Grouping"
      ],
      "metadata": {
        "id": "53OffP3dP9sO"
      }
    },
    {
      "cell_type": "markdown",
      "metadata": {
        "id": "f06f7e6a"
      },
      "source": [
        "Sometimes, we want to ask questions not just across the entire dataset, but within groups. Dataframes allow us to ask questions like this using the `groupby()` method. Sometimes, you will hear this referred to as a `split-apply-combine` method, where we\n",
        "\n",
        "1) Split our data by some grouping\n",
        "2) Apply a function or aggregation to each group\n",
        "3) Combine the results into a full dataframe\n",
        "\n",
        "Let's consider an example:\n",
        "\n",
        "On which down do the most touchdowns occur?\n"
      ]
    },
    {
      "cell_type": "code",
      "execution_count": null,
      "metadata": {
        "id": "d1f5e034",
        "colab": {
          "base_uri": "https://localhost:8080/",
          "height": 240
        },
        "outputId": "8f975bcf-c550-4caf-f133-670649980619"
      },
      "outputs": [
        {
          "output_type": "execute_result",
          "data": {
            "text/plain": [
              "down\n",
              "1.0    0.029445\n",
              "2.0    0.036555\n",
              "3.0    0.045266\n",
              "4.0    0.016546\n",
              "Name: touchdown, dtype: float64"
            ],
            "text/html": [
              "<div>\n",
              "<style scoped>\n",
              "    .dataframe tbody tr th:only-of-type {\n",
              "        vertical-align: middle;\n",
              "    }\n",
              "\n",
              "    .dataframe tbody tr th {\n",
              "        vertical-align: top;\n",
              "    }\n",
              "\n",
              "    .dataframe thead th {\n",
              "        text-align: right;\n",
              "    }\n",
              "</style>\n",
              "<table border=\"1\" class=\"dataframe\">\n",
              "  <thead>\n",
              "    <tr style=\"text-align: right;\">\n",
              "      <th></th>\n",
              "      <th>touchdown</th>\n",
              "    </tr>\n",
              "    <tr>\n",
              "      <th>down</th>\n",
              "      <th></th>\n",
              "    </tr>\n",
              "  </thead>\n",
              "  <tbody>\n",
              "    <tr>\n",
              "      <th>1.0</th>\n",
              "      <td>0.029445</td>\n",
              "    </tr>\n",
              "    <tr>\n",
              "      <th>2.0</th>\n",
              "      <td>0.036555</td>\n",
              "    </tr>\n",
              "    <tr>\n",
              "      <th>3.0</th>\n",
              "      <td>0.045266</td>\n",
              "    </tr>\n",
              "    <tr>\n",
              "      <th>4.0</th>\n",
              "      <td>0.016546</td>\n",
              "    </tr>\n",
              "  </tbody>\n",
              "</table>\n",
              "</div><br><label><b>dtype:</b> float64</label>"
            ]
          },
          "metadata": {},
          "execution_count": 9
        }
      ],
      "source": [
        "nfl.groupby(\"down\")[\"touchdown\"].mean()"
      ]
    },
    {
      "cell_type": "markdown",
      "metadata": {
        "id": "0bbbc8d0"
      },
      "source": [
        "Let's break this down:\n",
        "\n",
        "1) We **split** our data by downs.\n",
        "2) We **applied** the `mean()` function to the `touchdown` variable for each down.\n",
        "3) Python **combined** the mean results for each down into a single, new dataframe. This dataframe is indexed by down.\n"
      ]
    },
    {
      "cell_type": "markdown",
      "source": [
        "For each down, how many yards are remaining on average from the next first down marker?"
      ],
      "metadata": {
        "id": "KkrsUxin2YrR"
      }
    },
    {
      "cell_type": "code",
      "source": [],
      "metadata": {
        "id": "bXtqKVQD2rip"
      },
      "execution_count": null,
      "outputs": []
    },
    {
      "cell_type": "markdown",
      "source": [
        "<details>\n",
        "\n",
        "````\n",
        "nfl.groupby(\"down\")[\"ydstogo\"].mean()\n",
        "````\n",
        "\n",
        "</details>"
      ],
      "metadata": {
        "id": "Z9M5hAf33Vgz"
      }
    },
    {
      "cell_type": "markdown",
      "source": [
        "## Visualizing Relationships"
      ],
      "metadata": {
        "id": "WBGOGxcpx0j9"
      }
    },
    {
      "cell_type": "markdown",
      "source": [
        "We can visualize the relationship between two variables in a dataset through plotting. A multiple boxplot is useful when visualizing the distribution of a **quantitative variable given a categorical variable**.\n",
        "\n",
        "Create a box plot of the `down` and `yrdstogo`. What does this plot tell you?"
      ],
      "metadata": {
        "id": "BeL0JVVYx7xM"
      }
    },
    {
      "cell_type": "code",
      "source": [],
      "metadata": {
        "id": "QKv6MdWax38F"
      },
      "execution_count": null,
      "outputs": []
    },
    {
      "cell_type": "markdown",
      "source": [
        "<details>\n",
        "\n",
        "````\n",
        "sb.boxplot(data=nfl, x=\"down\", y=\"ydstogo\", showfliers=False)\n",
        "````\n",
        "\n",
        "</details>"
      ],
      "metadata": {
        "id": "L5nlPnBs01eM"
      }
    },
    {
      "cell_type": "markdown",
      "source": [
        "*Replace this text with your answer*"
      ],
      "metadata": {
        "id": "4l7ZXXuy02tY"
      }
    }
  ]
}