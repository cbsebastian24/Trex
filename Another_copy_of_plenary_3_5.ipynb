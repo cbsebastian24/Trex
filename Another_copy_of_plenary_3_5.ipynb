{
  "nbformat": 4,
  "nbformat_minor": 0,
  "metadata": {
    "colab": {
      "provenance": [],
      "include_colab_link": true
    },
    "kernelspec": {
      "name": "python3",
      "display_name": "Python 3"
    },
    "language_info": {
      "name": "python"
    }
  },
  "cells": [
    {
      "cell_type": "markdown",
      "metadata": {
        "id": "view-in-github",
        "colab_type": "text"
      },
      "source": [
        "<a href=\"https://colab.research.google.com/github/cbsebastian24/Trex/blob/main/Another_copy_of_plenary_3_5.ipynb\" target=\"_parent\"><img src=\"https://colab.research.google.com/assets/colab-badge.svg\" alt=\"Open In Colab\"/></a>"
      ]
    },
    {
      "cell_type": "markdown",
      "source": [
        "# Confidence Intervals (cont.) with COVID-19 Hospitalization Data"
      ],
      "metadata": {
        "id": "z1I75Csf43lI"
      }
    },
    {
      "cell_type": "markdown",
      "source": [
        "The COVID-19 Hospitalization Surveillance Network (COVID-NET) is a network that conducts active, population-based surveillance for laboratory-confirmed COVID-19-associated hospitalizations among children and adults.\n",
        "\n",
        "COVID-NET is the CDC’s source for important data on rates of hospitalizations associated with COVID-19. **The monthly hospitalization rates represent the number of COVID-19 hospitalizations (not percent) per 100,000 population in the surveillance area.**\n",
        "\n",
        "We will continue using this data to conduct hypothesis tests and construct confidence intervals.\n"
      ],
      "metadata": {
        "id": "v6ulqebc48Lr"
      }
    },
    {
      "cell_type": "markdown",
      "source": [
        "## Load the data"
      ],
      "metadata": {
        "id": "2Z6MeIBu5F0M"
      }
    },
    {
      "cell_type": "code",
      "execution_count": 2,
      "metadata": {
        "id": "HgrwJSKIQELw"
      },
      "outputs": [],
      "source": [
        "import pandas as pd\n",
        "import seaborn as sb\n",
        "import matplotlib.pyplot as plt\n",
        "import numpy as np"
      ]
    },
    {
      "cell_type": "code",
      "source": [
        "file_path = \"https://raw.githubusercontent.com/UM-Data-Science-101/data-FA2025/refs/heads/main/Monthly_Rates_of_Laboratory-Confirmed_COVID-19_Hospitalizations_from_the_COVID-NET_Surveillance_System_Cleaned.csv\" # REPLACE\n",
        "df = pd.read_csv(file_path)"
      ],
      "metadata": {
        "id": "PWPFfj1RQHrD"
      },
      "execution_count": 3,
      "outputs": []
    },
    {
      "cell_type": "code",
      "source": [
        "df.shape"
      ],
      "metadata": {
        "id": "Ow3S2uE7Y5V-",
        "colab": {
          "base_uri": "https://localhost:8080/"
        },
        "outputId": "0bdd3f55-957a-4f0c-f0e3-603f7be295b1"
      },
      "execution_count": 4,
      "outputs": [
        {
          "output_type": "execute_result",
          "data": {
            "text/plain": [
              "(41787, 9)"
            ]
          },
          "metadata": {},
          "execution_count": 4
        }
      ]
    },
    {
      "cell_type": "code",
      "source": [
        "df.columns"
      ],
      "metadata": {
        "id": "cyDawjKYnUca",
        "colab": {
          "base_uri": "https://localhost:8080/"
        },
        "outputId": "da3cdb76-35d3-4ec4-9f91-cd5ffb69577f"
      },
      "execution_count": 5,
      "outputs": [
        {
          "output_type": "execute_result",
          "data": {
            "text/plain": [
              "Index(['State', 'Season', 'AgeCategory_Legend', 'Sex_Label', 'Race_Label',\n",
              "       'MonthlyRate', 'Type', 'Year', 'Month'],\n",
              "      dtype='object')"
            ]
          },
          "metadata": {},
          "execution_count": 5
        }
      ]
    },
    {
      "cell_type": "code",
      "source": [
        "df.head()"
      ],
      "metadata": {
        "id": "iiZP3K43qL1w",
        "colab": {
          "base_uri": "https://localhost:8080/",
          "height": 204
        },
        "outputId": "31065de0-d39e-45d8-b065-9e1cecc1b4c3"
      },
      "execution_count": 6,
      "outputs": [
        {
          "output_type": "execute_result",
          "data": {
            "text/plain": [
              "  State   Season AgeCategory_Legend Sex_Label Race_Label  MonthlyRate  \\\n",
              "0  Utah  2021-22     6mo-<12 months       All        All         39.7   \n",
              "1  Utah  2021-22     6mo-<12 months       All        All          0.0   \n",
              "2  Utah  2021-22     6mo-<12 months       All        All         53.0   \n",
              "3  Utah  2021-22     6mo-<12 months       All        All         74.0   \n",
              "4  Utah  2021-22     6mo-<12 months       All        All         29.6   \n",
              "\n",
              "         Type  Year  Month  \n",
              "0  Crude Rate  2021     11  \n",
              "1  Crude Rate  2021     10  \n",
              "2  Crude Rate  2022      2  \n",
              "3  Crude Rate  2022      6  \n",
              "4  Crude Rate  2022      8  "
            ],
            "text/html": [
              "\n",
              "  <div id=\"df-e66aef60-e302-4247-8fff-fc5566dac4d4\" class=\"colab-df-container\">\n",
              "    <div>\n",
              "<style scoped>\n",
              "    .dataframe tbody tr th:only-of-type {\n",
              "        vertical-align: middle;\n",
              "    }\n",
              "\n",
              "    .dataframe tbody tr th {\n",
              "        vertical-align: top;\n",
              "    }\n",
              "\n",
              "    .dataframe thead th {\n",
              "        text-align: right;\n",
              "    }\n",
              "</style>\n",
              "<table border=\"1\" class=\"dataframe\">\n",
              "  <thead>\n",
              "    <tr style=\"text-align: right;\">\n",
              "      <th></th>\n",
              "      <th>State</th>\n",
              "      <th>Season</th>\n",
              "      <th>AgeCategory_Legend</th>\n",
              "      <th>Sex_Label</th>\n",
              "      <th>Race_Label</th>\n",
              "      <th>MonthlyRate</th>\n",
              "      <th>Type</th>\n",
              "      <th>Year</th>\n",
              "      <th>Month</th>\n",
              "    </tr>\n",
              "  </thead>\n",
              "  <tbody>\n",
              "    <tr>\n",
              "      <th>0</th>\n",
              "      <td>Utah</td>\n",
              "      <td>2021-22</td>\n",
              "      <td>6mo-&lt;12 months</td>\n",
              "      <td>All</td>\n",
              "      <td>All</td>\n",
              "      <td>39.7</td>\n",
              "      <td>Crude Rate</td>\n",
              "      <td>2021</td>\n",
              "      <td>11</td>\n",
              "    </tr>\n",
              "    <tr>\n",
              "      <th>1</th>\n",
              "      <td>Utah</td>\n",
              "      <td>2021-22</td>\n",
              "      <td>6mo-&lt;12 months</td>\n",
              "      <td>All</td>\n",
              "      <td>All</td>\n",
              "      <td>0.0</td>\n",
              "      <td>Crude Rate</td>\n",
              "      <td>2021</td>\n",
              "      <td>10</td>\n",
              "    </tr>\n",
              "    <tr>\n",
              "      <th>2</th>\n",
              "      <td>Utah</td>\n",
              "      <td>2021-22</td>\n",
              "      <td>6mo-&lt;12 months</td>\n",
              "      <td>All</td>\n",
              "      <td>All</td>\n",
              "      <td>53.0</td>\n",
              "      <td>Crude Rate</td>\n",
              "      <td>2022</td>\n",
              "      <td>2</td>\n",
              "    </tr>\n",
              "    <tr>\n",
              "      <th>3</th>\n",
              "      <td>Utah</td>\n",
              "      <td>2021-22</td>\n",
              "      <td>6mo-&lt;12 months</td>\n",
              "      <td>All</td>\n",
              "      <td>All</td>\n",
              "      <td>74.0</td>\n",
              "      <td>Crude Rate</td>\n",
              "      <td>2022</td>\n",
              "      <td>6</td>\n",
              "    </tr>\n",
              "    <tr>\n",
              "      <th>4</th>\n",
              "      <td>Utah</td>\n",
              "      <td>2021-22</td>\n",
              "      <td>6mo-&lt;12 months</td>\n",
              "      <td>All</td>\n",
              "      <td>All</td>\n",
              "      <td>29.6</td>\n",
              "      <td>Crude Rate</td>\n",
              "      <td>2022</td>\n",
              "      <td>8</td>\n",
              "    </tr>\n",
              "  </tbody>\n",
              "</table>\n",
              "</div>\n",
              "    <div class=\"colab-df-buttons\">\n",
              "\n",
              "  <div class=\"colab-df-container\">\n",
              "    <button class=\"colab-df-convert\" onclick=\"convertToInteractive('df-e66aef60-e302-4247-8fff-fc5566dac4d4')\"\n",
              "            title=\"Convert this dataframe to an interactive table.\"\n",
              "            style=\"display:none;\">\n",
              "\n",
              "  <svg xmlns=\"http://www.w3.org/2000/svg\" height=\"24px\" viewBox=\"0 -960 960 960\">\n",
              "    <path d=\"M120-120v-720h720v720H120Zm60-500h600v-160H180v160Zm220 220h160v-160H400v160Zm0 220h160v-160H400v160ZM180-400h160v-160H180v160Zm440 0h160v-160H620v160ZM180-180h160v-160H180v160Zm440 0h160v-160H620v160Z\"/>\n",
              "  </svg>\n",
              "    </button>\n",
              "\n",
              "  <style>\n",
              "    .colab-df-container {\n",
              "      display:flex;\n",
              "      gap: 12px;\n",
              "    }\n",
              "\n",
              "    .colab-df-convert {\n",
              "      background-color: #E8F0FE;\n",
              "      border: none;\n",
              "      border-radius: 50%;\n",
              "      cursor: pointer;\n",
              "      display: none;\n",
              "      fill: #1967D2;\n",
              "      height: 32px;\n",
              "      padding: 0 0 0 0;\n",
              "      width: 32px;\n",
              "    }\n",
              "\n",
              "    .colab-df-convert:hover {\n",
              "      background-color: #E2EBFA;\n",
              "      box-shadow: 0px 1px 2px rgba(60, 64, 67, 0.3), 0px 1px 3px 1px rgba(60, 64, 67, 0.15);\n",
              "      fill: #174EA6;\n",
              "    }\n",
              "\n",
              "    .colab-df-buttons div {\n",
              "      margin-bottom: 4px;\n",
              "    }\n",
              "\n",
              "    [theme=dark] .colab-df-convert {\n",
              "      background-color: #3B4455;\n",
              "      fill: #D2E3FC;\n",
              "    }\n",
              "\n",
              "    [theme=dark] .colab-df-convert:hover {\n",
              "      background-color: #434B5C;\n",
              "      box-shadow: 0px 1px 3px 1px rgba(0, 0, 0, 0.15);\n",
              "      filter: drop-shadow(0px 1px 2px rgba(0, 0, 0, 0.3));\n",
              "      fill: #FFFFFF;\n",
              "    }\n",
              "  </style>\n",
              "\n",
              "    <script>\n",
              "      const buttonEl =\n",
              "        document.querySelector('#df-e66aef60-e302-4247-8fff-fc5566dac4d4 button.colab-df-convert');\n",
              "      buttonEl.style.display =\n",
              "        google.colab.kernel.accessAllowed ? 'block' : 'none';\n",
              "\n",
              "      async function convertToInteractive(key) {\n",
              "        const element = document.querySelector('#df-e66aef60-e302-4247-8fff-fc5566dac4d4');\n",
              "        const dataTable =\n",
              "          await google.colab.kernel.invokeFunction('convertToInteractive',\n",
              "                                                    [key], {});\n",
              "        if (!dataTable) return;\n",
              "\n",
              "        const docLinkHtml = 'Like what you see? Visit the ' +\n",
              "          '<a target=\"_blank\" href=https://colab.research.google.com/notebooks/data_table.ipynb>data table notebook</a>'\n",
              "          + ' to learn more about interactive tables.';\n",
              "        element.innerHTML = '';\n",
              "        dataTable['output_type'] = 'display_data';\n",
              "        await google.colab.output.renderOutput(dataTable, element);\n",
              "        const docLink = document.createElement('div');\n",
              "        docLink.innerHTML = docLinkHtml;\n",
              "        element.appendChild(docLink);\n",
              "      }\n",
              "    </script>\n",
              "  </div>\n",
              "\n",
              "\n",
              "    <div id=\"df-6e6aa23c-4ef1-4403-bbc8-18d35731006a\">\n",
              "      <button class=\"colab-df-quickchart\" onclick=\"quickchart('df-6e6aa23c-4ef1-4403-bbc8-18d35731006a')\"\n",
              "                title=\"Suggest charts\"\n",
              "                style=\"display:none;\">\n",
              "\n",
              "<svg xmlns=\"http://www.w3.org/2000/svg\" height=\"24px\"viewBox=\"0 0 24 24\"\n",
              "     width=\"24px\">\n",
              "    <g>\n",
              "        <path d=\"M19 3H5c-1.1 0-2 .9-2 2v14c0 1.1.9 2 2 2h14c1.1 0 2-.9 2-2V5c0-1.1-.9-2-2-2zM9 17H7v-7h2v7zm4 0h-2V7h2v10zm4 0h-2v-4h2v4z\"/>\n",
              "    </g>\n",
              "</svg>\n",
              "      </button>\n",
              "\n",
              "<style>\n",
              "  .colab-df-quickchart {\n",
              "      --bg-color: #E8F0FE;\n",
              "      --fill-color: #1967D2;\n",
              "      --hover-bg-color: #E2EBFA;\n",
              "      --hover-fill-color: #174EA6;\n",
              "      --disabled-fill-color: #AAA;\n",
              "      --disabled-bg-color: #DDD;\n",
              "  }\n",
              "\n",
              "  [theme=dark] .colab-df-quickchart {\n",
              "      --bg-color: #3B4455;\n",
              "      --fill-color: #D2E3FC;\n",
              "      --hover-bg-color: #434B5C;\n",
              "      --hover-fill-color: #FFFFFF;\n",
              "      --disabled-bg-color: #3B4455;\n",
              "      --disabled-fill-color: #666;\n",
              "  }\n",
              "\n",
              "  .colab-df-quickchart {\n",
              "    background-color: var(--bg-color);\n",
              "    border: none;\n",
              "    border-radius: 50%;\n",
              "    cursor: pointer;\n",
              "    display: none;\n",
              "    fill: var(--fill-color);\n",
              "    height: 32px;\n",
              "    padding: 0;\n",
              "    width: 32px;\n",
              "  }\n",
              "\n",
              "  .colab-df-quickchart:hover {\n",
              "    background-color: var(--hover-bg-color);\n",
              "    box-shadow: 0 1px 2px rgba(60, 64, 67, 0.3), 0 1px 3px 1px rgba(60, 64, 67, 0.15);\n",
              "    fill: var(--button-hover-fill-color);\n",
              "  }\n",
              "\n",
              "  .colab-df-quickchart-complete:disabled,\n",
              "  .colab-df-quickchart-complete:disabled:hover {\n",
              "    background-color: var(--disabled-bg-color);\n",
              "    fill: var(--disabled-fill-color);\n",
              "    box-shadow: none;\n",
              "  }\n",
              "\n",
              "  .colab-df-spinner {\n",
              "    border: 2px solid var(--fill-color);\n",
              "    border-color: transparent;\n",
              "    border-bottom-color: var(--fill-color);\n",
              "    animation:\n",
              "      spin 1s steps(1) infinite;\n",
              "  }\n",
              "\n",
              "  @keyframes spin {\n",
              "    0% {\n",
              "      border-color: transparent;\n",
              "      border-bottom-color: var(--fill-color);\n",
              "      border-left-color: var(--fill-color);\n",
              "    }\n",
              "    20% {\n",
              "      border-color: transparent;\n",
              "      border-left-color: var(--fill-color);\n",
              "      border-top-color: var(--fill-color);\n",
              "    }\n",
              "    30% {\n",
              "      border-color: transparent;\n",
              "      border-left-color: var(--fill-color);\n",
              "      border-top-color: var(--fill-color);\n",
              "      border-right-color: var(--fill-color);\n",
              "    }\n",
              "    40% {\n",
              "      border-color: transparent;\n",
              "      border-right-color: var(--fill-color);\n",
              "      border-top-color: var(--fill-color);\n",
              "    }\n",
              "    60% {\n",
              "      border-color: transparent;\n",
              "      border-right-color: var(--fill-color);\n",
              "    }\n",
              "    80% {\n",
              "      border-color: transparent;\n",
              "      border-right-color: var(--fill-color);\n",
              "      border-bottom-color: var(--fill-color);\n",
              "    }\n",
              "    90% {\n",
              "      border-color: transparent;\n",
              "      border-bottom-color: var(--fill-color);\n",
              "    }\n",
              "  }\n",
              "</style>\n",
              "\n",
              "      <script>\n",
              "        async function quickchart(key) {\n",
              "          const quickchartButtonEl =\n",
              "            document.querySelector('#' + key + ' button');\n",
              "          quickchartButtonEl.disabled = true;  // To prevent multiple clicks.\n",
              "          quickchartButtonEl.classList.add('colab-df-spinner');\n",
              "          try {\n",
              "            const charts = await google.colab.kernel.invokeFunction(\n",
              "                'suggestCharts', [key], {});\n",
              "          } catch (error) {\n",
              "            console.error('Error during call to suggestCharts:', error);\n",
              "          }\n",
              "          quickchartButtonEl.classList.remove('colab-df-spinner');\n",
              "          quickchartButtonEl.classList.add('colab-df-quickchart-complete');\n",
              "        }\n",
              "        (() => {\n",
              "          let quickchartButtonEl =\n",
              "            document.querySelector('#df-6e6aa23c-4ef1-4403-bbc8-18d35731006a button');\n",
              "          quickchartButtonEl.style.display =\n",
              "            google.colab.kernel.accessAllowed ? 'block' : 'none';\n",
              "        })();\n",
              "      </script>\n",
              "    </div>\n",
              "\n",
              "    </div>\n",
              "  </div>\n"
            ],
            "application/vnd.google.colaboratory.intrinsic+json": {
              "type": "dataframe",
              "variable_name": "df",
              "summary": "{\n  \"name\": \"df\",\n  \"rows\": 41787,\n  \"fields\": [\n    {\n      \"column\": \"State\",\n      \"properties\": {\n        \"dtype\": \"category\",\n        \"num_unique_values\": 16,\n        \"samples\": [\n          \"Utah\",\n          \"Tennessee\",\n          \"New Mexico\"\n        ],\n        \"semantic_type\": \"\",\n        \"description\": \"\"\n      }\n    },\n    {\n      \"column\": \"Season\",\n      \"properties\": {\n        \"dtype\": \"category\",\n        \"num_unique_values\": 6,\n        \"samples\": [\n          \"2021-22\",\n          \"2020-21\",\n          \"2019-20\"\n        ],\n        \"semantic_type\": \"\",\n        \"description\": \"\"\n      }\n    },\n    {\n      \"column\": \"AgeCategory_Legend\",\n      \"properties\": {\n        \"dtype\": \"category\",\n        \"num_unique_values\": 23,\n        \"samples\": [\n          \"65-74 years\",\n          \"18-29 years\",\n          \"6mo-<12 months\"\n        ],\n        \"semantic_type\": \"\",\n        \"description\": \"\"\n      }\n    },\n    {\n      \"column\": \"Sex_Label\",\n      \"properties\": {\n        \"dtype\": \"category\",\n        \"num_unique_values\": 3,\n        \"samples\": [\n          \"All\",\n          \"Female\",\n          \"Male\"\n        ],\n        \"semantic_type\": \"\",\n        \"description\": \"\"\n      }\n    },\n    {\n      \"column\": \"Race_Label\",\n      \"properties\": {\n        \"dtype\": \"category\",\n        \"num_unique_values\": 6,\n        \"samples\": [\n          \"All\",\n          \"Hispanic\",\n          \"White, non-Hispanic\"\n        ],\n        \"semantic_type\": \"\",\n        \"description\": \"\"\n      }\n    },\n    {\n      \"column\": \"MonthlyRate\",\n      \"properties\": {\n        \"dtype\": \"number\",\n        \"std\": 62.15128905373066,\n        \"min\": 0.0,\n        \"max\": 1260.0,\n        \"num_unique_values\": 2626,\n        \"samples\": [\n          186.1,\n          134.7,\n          96.7\n        ],\n        \"semantic_type\": \"\",\n        \"description\": \"\"\n      }\n    },\n    {\n      \"column\": \"Type\",\n      \"properties\": {\n        \"dtype\": \"category\",\n        \"num_unique_values\": 2,\n        \"samples\": [\n          \"Age adjusted Rate\",\n          \"Crude Rate\"\n        ],\n        \"semantic_type\": \"\",\n        \"description\": \"\"\n      }\n    },\n    {\n      \"column\": \"Year\",\n      \"properties\": {\n        \"dtype\": \"number\",\n        \"std\": 1,\n        \"min\": 2020,\n        \"max\": 2025,\n        \"num_unique_values\": 6,\n        \"samples\": [\n          2021,\n          2022\n        ],\n        \"semantic_type\": \"\",\n        \"description\": \"\"\n      }\n    },\n    {\n      \"column\": \"Month\",\n      \"properties\": {\n        \"dtype\": \"number\",\n        \"std\": 3,\n        \"min\": 1,\n        \"max\": 12,\n        \"num_unique_values\": 12,\n        \"samples\": [\n          1,\n          4\n        ],\n        \"semantic_type\": \"\",\n        \"description\": \"\"\n      }\n    }\n  ]\n}"
            }
          },
          "metadata": {},
          "execution_count": 6
        }
      ]
    },
    {
      "cell_type": "markdown",
      "source": [
        "## Confidence Intervals"
      ],
      "metadata": {
        "id": "-lCWrkjXTXL5"
      }
    },
    {
      "cell_type": "markdown",
      "source": [
        "### Question: Is the average monthly COVID-19 hospitalization rate for White, non-Hispanic Californians during the 2022-23 season 20 per 100,000? Use $\\alpha = 0.0015$."
      ],
      "metadata": {
        "id": "AH-13GzsTQ8R"
      }
    },
    {
      "cell_type": "markdown",
      "source": [
        "Step 1: State the null and alternative hypotheses."
      ],
      "metadata": {
        "id": "v28n82qcUCYw"
      }
    },
    {
      "cell_type": "markdown",
      "source": [
        "The null hypothesis is the average monthly COVID-19 hospitalization rate for White Californians during the 2022-23 season is 20 per 100,000 The alternative hypothesis is the average monthly COVID-19 hospitalization rate for White Californians during the 2022-23 season is not 20 per 100,000"
      ],
      "metadata": {
        "id": "QjfrYFpqUCYw"
      }
    },
    {
      "cell_type": "markdown",
      "source": [
        "<details>\n",
        "\n",
        "$$\n",
        "H_0: \\text{The average monthly COVID-19 hospitalization rate for White Californians during the 2022-23 season is 20 per 100,000} \\\\\n",
        "H_1: \\text{The average monthly COVID-19 hospitalization rate for White Californians during the 2022-23 season is not 20 per 100,000}\n",
        "$$\n",
        "</details>"
      ],
      "metadata": {
        "id": "aHt79cx6UCYx"
      }
    },
    {
      "cell_type": "markdown",
      "source": [
        "Step 2: Create a subset of df (Hint: You only want the entries where the State is California, the Season is 2022-23, the Age Category is All, the Sex Label is All, the Race Label is White, non-Hispanic, and the Type of rate is Crude Rate)."
      ],
      "metadata": {
        "id": "y5PJkF6MUCYy"
      }
    },
    {
      "cell_type": "code",
      "source": [
        "subset = df[\n",
        "    (df['State'] == 'California') &\n",
        "    (df['Season'] == '2022-23') &\n",
        "    (df['AgeCategory_Legend'] == 'All') &\n",
        "    (df['Sex_Label'] == 'All') &\n",
        "    (df['Race_Label'] == 'White, non-Hispanic') &\n",
        "    (df['Type'] == 'Crude Rate')\n",
        "]"
      ],
      "metadata": {
        "id": "ahE5v_4RUCYy"
      },
      "execution_count": 7,
      "outputs": []
    },
    {
      "cell_type": "markdown",
      "source": [
        "<details>\n",
        "\n",
        "````\n",
        "subset = df[\n",
        "    (df['State'] == 'California') &\n",
        "    (df['Season'] == '2022-23') &\n",
        "    (df['AgeCategory_Legend'] == 'All') &\n",
        "    (df['Sex_Label'] == 'All') &\n",
        "    (df['Race_Label'] == 'White, non-Hispanic') &\n",
        "    (df['Type'] == 'Crude Rate')\n",
        "]\n",
        "````\n",
        "</details>"
      ],
      "metadata": {
        "id": "r39b6VL9UCYz"
      }
    },
    {
      "cell_type": "markdown",
      "source": [
        "Step 3: Calculate the SEM."
      ],
      "metadata": {
        "id": "Sy82l933UCYz"
      }
    },
    {
      "cell_type": "code",
      "source": [
        "Caliornian_rate = subset['MonthlyRate']\n",
        "sem = Caliornian_rate.std() / np.sqrt(len(Caliornian_rate))"
      ],
      "metadata": {
        "id": "wcduAOQ4Ulu8"
      },
      "execution_count": 8,
      "outputs": []
    },
    {
      "cell_type": "markdown",
      "source": [
        "<details>\n",
        "\n",
        "````\n",
        "californian_rates = subset['MonthlyRate']\n",
        "sem = californian_rates.std() / np.sqrt(len(californian_rates))\n",
        "````\n",
        "</details>"
      ],
      "metadata": {
        "id": "08a_rb6gUCYz"
      }
    },
    {
      "cell_type": "markdown",
      "source": [
        "Step 4: Calculate the confidence interval."
      ],
      "metadata": {
        "id": "qrdPSTt5VF12"
      }
    },
    {
      "cell_type": "code",
      "source": [
        "middle = Caliornian_rate.mean()\n",
        "(middle - 3*sem, middle + 3*sem)"
      ],
      "metadata": {
        "id": "sIapwUqLVF12",
        "colab": {
          "base_uri": "https://localhost:8080/"
        },
        "outputId": "1ecca7f7-1049-4f8d-8ba2-21d6f6bda008"
      },
      "execution_count": 9,
      "outputs": [
        {
          "output_type": "execute_result",
          "data": {
            "text/plain": [
              "(np.float64(19.009951103279338), np.float64(36.07338223005398))"
            ]
          },
          "metadata": {},
          "execution_count": 9
        }
      ]
    },
    {
      "cell_type": "markdown",
      "source": [
        "<details>\n",
        "\n",
        "````\n",
        "xbar = californian_rates.mean()\n",
        "(xbar - 3*sem, xbar + 3*sem)\n",
        "````\n",
        "\n",
        "</details>"
      ],
      "metadata": {
        "id": "ISnqAZLlVF13"
      }
    },
    {
      "cell_type": "markdown",
      "source": [
        "Step 5: What does this confidence interval tell us? Does the hypothesized rate of 20 fall inside or outside of the interval? What conclusion can you draw?"
      ],
      "metadata": {
        "id": "ZSh9kJDmVF13"
      }
    },
    {
      "cell_type": "markdown",
      "source": [
        "The confidence interval tells us that we are 99.7% conident that the true mean hospitlization rate is between 19 and 36.1 per 100,000. The hypothesized rate falls inside the conidence interval meaning we cannot say that the true mean rate is signiicantly different from 20."
      ],
      "metadata": {
        "id": "jjBa7-1QVF13"
      }
    },
    {
      "cell_type": "markdown",
      "source": [
        "<details>\n",
        "\n",
        "This confidence interval means that we are 99.7% confident that the true mean hospitalization rate lies between 19.01 and 36.07 per 100,000. The hypothesized rate of 20 falls inside of the confidence interval. Therefore, we cannot say that the true mean rate is significantly different from 20.\n",
        "\n",
        "</details>"
      ],
      "metadata": {
        "id": "TB1OtZcNVF13"
      }
    },
    {
      "cell_type": "markdown",
      "source": [
        "### Question: Is the average monthly COVID-19 hospitalization rate for male Michiganders between 2021 and 2023 greater than 30 per 100,000? Use $\\alpha = 0.05$."
      ],
      "metadata": {
        "id": "NYLZDefwjSMv"
      }
    },
    {
      "cell_type": "markdown",
      "source": [
        "Conduct a hypothesis test on your own using confidence intervals."
      ],
      "metadata": {
        "id": "lyMjRHGEjoU_"
      }
    },
    {
      "cell_type": "code",
      "source": [
        "subset = df[\n",
        "    (df['State'] == 'Michigan') &\n",
        "    (df['Year'].isin([2021, 2022, 2023])) &\n",
        "    (df['AgeCategory_Legend'] == 'All') &\n",
        "    (df['Sex_Label'] == 'Male') &\n",
        "    (df['Race_Label'] == 'All') &\n",
        "    (df['Type'] == 'Crude Rate')\n",
        "]\n",
        "michigan_rates = subset['MonthlyRate']\n",
        "sem = michigan_rates.std() / np.sqrt(len(michigan_rates))\n",
        "\n",
        "import math\n",
        "\n",
        "middle = michigan_rates.mean()\n",
        "(middle - 2*sem, math.inf)"
      ],
      "metadata": {
        "id": "2jGMcoEwjmd6",
        "colab": {
          "base_uri": "https://localhost:8080/"
        },
        "outputId": "ae8792da-9da8-4665-b235-dca0296f95f8"
      },
      "execution_count": 11,
      "outputs": [
        {
          "output_type": "execute_result",
          "data": {
            "text/plain": [
              "(np.float64(12.616601664264316), np.float64(33.983398335735686))"
            ]
          },
          "metadata": {},
          "execution_count": 11
        }
      ]
    },
    {
      "cell_type": "markdown",
      "source": [
        "We can be 95% confident that the true average monthly COVID-19 hospitalization rate for male Michiganders between 2021 and 2023 was at least 27.40 per 100,000, and the evidence does not support the claim that it exceeded 30. Therefore, we would fail to reject the null hypothesis."
      ],
      "metadata": {
        "id": "8gjO9eIUkuw9"
      }
    },
    {
      "cell_type": "markdown",
      "source": [
        "<details>\n",
        "\n",
        "$$H_0: \\text{The average monthly rate for male Michiganders between 2021 and 2023 is less than or equal to 30 per 100,000} \\\\\n",
        "H_1: \\text{The average monthly rate for male Michiganders between 2021 and 2023 is greater than 30 per 100,000}$$\n",
        "\n",
        "````\n",
        "subset = df[\n",
        "    (df['State'] == 'Michigan') &\n",
        "    (df['Year'].isin([2021, 2022, 2023])) &\n",
        "    (df['AgeCategory_Legend'] == 'All') &\n",
        "    (df['Sex_Label'] == 'Male') &\n",
        "    (df['Race_Label'] == 'All') &\n",
        "    (df['Type'] == 'Crude Rate')\n",
        "]\n",
        "\n",
        "michigan_rates = subset['MonthlyRate']\n",
        "sem = michigan_rates.std() / np.sqrt(len(michigan_rates))\n",
        "\n",
        "import math\n",
        "\n",
        "xbar = michigan_rates.mean()\n",
        "(xbar - 2*sem, math.inf)\n",
        "````\n",
        "We can be 95% confident that the true average monthly COVID-19 hospitalization rate for male Michiganders between 2021 and 2023 was at least 27.40 per 100,000, and the evidence does not support the claim that it exceeded 30. Therefore, we would fail to reject the null hypothesis.\n",
        "\n",
        "</details>"
      ],
      "metadata": {
        "id": "FaPuZiSmju-g"
      }
    },
    {
      "cell_type": "code",
      "source": [],
      "metadata": {
        "id": "qq_InbgJxo8S"
      },
      "execution_count": null,
      "outputs": []
    }
  ]
}