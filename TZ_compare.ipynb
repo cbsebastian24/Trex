{
  "cells": [
    {
      "cell_type": "markdown",
      "metadata": {
        "id": "view-in-github",
        "colab_type": "text"
      },
      "source": [
        "<a href=\"https://colab.research.google.com/github/cbsebastian24/Trex/blob/main/TZ_compare.ipynb\" target=\"_parent\"><img src=\"https://colab.research.google.com/assets/colab-badge.svg\" alt=\"Open In Colab\"/></a>"
      ]
    },
    {
      "cell_type": "markdown",
      "id": "f658699b-8c56-4d07-8a6d-a92af8153eaf",
      "metadata": {
        "id": "f658699b-8c56-4d07-8a6d-a92af8153eaf"
      },
      "source": [
        "# T-test vs z-test effect under small size n\n",
        "\n",
        "In this notebook, we investigate type I errors of the t-test and the z-test in the case of a small sample size."
      ]
    },
    {
      "cell_type": "code",
      "execution_count": null,
      "id": "8847b3b3-977d-4e79-893d-a71bd4ce6005",
      "metadata": {
        "id": "8847b3b3-977d-4e79-893d-a71bd4ce6005"
      },
      "outputs": [],
      "source": [
        "# Import libraries\n",
        "import numpy as np\n",
        "import matplotlib.pyplot as plt\n",
        "from scipy import stats"
      ]
    },
    {
      "cell_type": "code",
      "execution_count": null,
      "id": "a4beb6dd-7ccb-465a-9b9d-c1be7e973ce5",
      "metadata": {
        "id": "a4beb6dd-7ccb-465a-9b9d-c1be7e973ce5"
      },
      "outputs": [],
      "source": [
        "# Function to generate iid 1D data\n",
        "def generate_data(n, dist=\"normal\", mean=0, scale=1):\n",
        "    \"\"\"\n",
        "    Generate iid samples from one of several distributions.\n",
        "    \"\"\"\n",
        "    if dist == \"normal\":\n",
        "        return np.random.normal(mean, scale, size=n)\n",
        "    elif dist == \"laplace\":\n",
        "        return np.random.laplace(mean, scale, size=n)\n",
        "    elif dist == \"exponential\":\n",
        "        return np.random.exponential(scale, size=n) - scale  # centered\n",
        "    else:\n",
        "        raise ValueError(\"Distribution must be 'normal', 'laplace', or 'exponential'.\")"
      ]
    },
    {
      "cell_type": "markdown",
      "id": "5a394f62-5d07-47df-b234-5a54c5fbd22c",
      "metadata": {
        "id": "5a394f62-5d07-47df-b234-5a54c5fbd22c"
      },
      "source": [
        "**Question 1:** Plot and visualize the normal, laplace, and exponential distribution. Use data from the cell below as a starting point. What is your observation? which data distribution do you think that will cause the t-test and the z-test to \"struggle\" on?"
      ]
    },
    {
      "cell_type": "code",
      "execution_count": null,
      "id": "a396911d-c15f-432b-93f7-0a76d5dd1338",
      "metadata": {
        "id": "a396911d-c15f-432b-93f7-0a76d5dd1338"
      },
      "outputs": [],
      "source": [
        "np.random.seed(0)\n",
        "sample_size = 10000\n",
        "data = dict()\n",
        "for dist in [\"normal\", \"laplace\", \"exponential\"]:\n",
        "    data[dist] = generate_data(sample_size, dist=dist)"
      ]
    },
    {
      "cell_type": "code",
      "execution_count": null,
      "id": "bc3a4fe5-ae51-47e9-9fee-f466036da6c4",
      "metadata": {
        "id": "bc3a4fe5-ae51-47e9-9fee-f466036da6c4"
      },
      "outputs": [],
      "source": [
        "# TO-DO: plots the data above to visualize the normal, laplace, and exponential distribution, under standard parameters."
      ]
    },
    {
      "cell_type": "markdown",
      "id": "24cd383d-7527-4ce9-ace0-c8c7733863ed",
      "metadata": {
        "id": "24cd383d-7527-4ce9-ace0-c8c7733863ed"
      },
      "source": [
        "**Question 2:** Using the provided code as a starting point, complete the t_test and the z_test functions that returns `True` if the null is rejected, and `False` if you fail to reject it. Hints: treat data as a 1D Numpy array, hence you are allowed to use `np.mean(data)` as well as `np.std(data, ddof=1)` to calculate the mean and std of data. Test your function using the generated data `data` to make sure that it works."
      ]
    },
    {
      "cell_type": "code",
      "execution_count": null,
      "id": "8f50e9e5-3338-4796-b4a7-7529b80e7e0c",
      "metadata": {
        "id": "8f50e9e5-3338-4796-b4a7-7529b80e7e0c"
      },
      "outputs": [],
      "source": [
        "# Define test functions\n",
        "def t_test(data, mu0=0, alpha=0.05):\n",
        "    \"\"\"\n",
        "    Two-sided t-test for mean = mu0\n",
        "    Returns True if null is rejected\n",
        "    \"\"\"\n",
        "    # TO-DO: complete the function\n",
        "    pass\n",
        "\n",
        "\n",
        "def z_test(data, mu0=0, alpha=0.05):\n",
        "    \"\"\"\n",
        "    Two-sided z-test for mean = mu0.\n",
        "    Uses sample std to aproximate the variance.\n",
        "    \"\"\"\n",
        "    # TO-DO: complete the function\n",
        "    pass"
      ]
    },
    {
      "cell_type": "code",
      "execution_count": null,
      "id": "6aa18297-c62d-4aaf-b5b3-ee2788ade743",
      "metadata": {
        "id": "6aa18297-c62d-4aaf-b5b3-ee2788ade743"
      },
      "outputs": [],
      "source": [
        "# TO-DO: run your two functions on generated data"
      ]
    },
    {
      "cell_type": "markdown",
      "id": "9fd2d79e-a95f-432c-bb47-82966eda38c1",
      "metadata": {
        "id": "9fd2d79e-a95f-432c-bb47-82966eda38c1"
      },
      "source": [
        "**Question 3:** Complete the following function that runs the simulation to estimate Type I error. The function should generate data multiple times with size `n`, conduct testing against the null mean, and keep tract of the number of the time that the test turns out `True` (when we wrongly reject the null). Then, the function should return the ratio of outputing `True` as an \"Empirical Type I error\" that estimates Type I error. Make good use of the functions `t_test` and `z_test` that you have defined!"
      ]
    },
    {
      "cell_type": "code",
      "execution_count": null,
      "id": "00470d80-1f1e-45da-a7d2-9c84f65ba1fd",
      "metadata": {
        "id": "00470d80-1f1e-45da-a7d2-9c84f65ba1fd"
      },
      "outputs": [],
      "source": [
        "# Simulation function to estimate Type I error\n",
        "def empirical_type1_error(n=10, dist=\"normal\", alpha=0.05, n_sim=10000):\n",
        "    \"\"\"\n",
        "    Repeat hypothesis testing under true mean = 0 and record empirical Type I error.\n",
        "    \"\"\"\n",
        "    # TO-DO: complete the function\n",
        "    pass"
      ]
    },
    {
      "cell_type": "markdown",
      "id": "7a1fd9a5-40e2-49a5-a826-2af0c7d870e2",
      "metadata": {
        "id": "7a1fd9a5-40e2-49a5-a826-2af0c7d870e2"
      },
      "source": [
        "**Question 4:** Run the experiment using the function that you have defined in **Question 3**, with the followings parameters. Keep track of the outputs; we will be plotting them in the next question."
      ]
    },
    {
      "cell_type": "code",
      "execution_count": null,
      "id": "eccc5e0e-1f14-4f1d-932f-500c041dfe4e",
      "metadata": {
        "id": "eccc5e0e-1f14-4f1d-932f-500c041dfe4e"
      },
      "outputs": [],
      "source": [
        "# Run experiment for different distributions\n",
        "np.random.seed(0)\n",
        "n_sim = 10000\n",
        "alpha = 0.05\n",
        "sample_sizes = [5, 10, 15, 20, 25, 30]\n",
        "distributions = [\"normal\", \"laplace\", \"exponential\"]\n",
        "\n",
        "# TO-DO: run the experiments using 2 for loops to loop over\n",
        "#        the two lists of sample_sizes and distributions provided\n",
        "#\n",
        "#\n",
        "#"
      ]
    },
    {
      "cell_type": "markdown",
      "id": "f808554b-7f5b-4bc9-97f4-1e0d150ce508",
      "metadata": {
        "id": "f808554b-7f5b-4bc9-97f4-1e0d150ce508"
      },
      "source": [
        "**Question 5:** Using the appropriate plot, visuallize the results."
      ]
    },
    {
      "cell_type": "code",
      "execution_count": null,
      "id": "7d4101d1-15c3-4a6c-b6a7-fa6ca72d49a7",
      "metadata": {
        "id": "7d4101d1-15c3-4a6c-b6a7-fa6ca72d49a7"
      },
      "outputs": [],
      "source": [
        "# TO-DO: visualize results\n",
        "#\n",
        "#\n",
        "#"
      ]
    },
    {
      "cell_type": "markdown",
      "id": "57c8e6da-d8e3-4b6d-8648-cf6b02ac44ab",
      "metadata": {
        "id": "57c8e6da-d8e3-4b6d-8648-cf6b02ac44ab"
      },
      "source": [
        "**Question 6:** Comments on what you see based on the following questions:\n",
        "* For which sample distribution and which test is Type I error correctly control?\n",
        "* Which test does better in controlling Type I error? Why? Is this to be expected?\n",
        "* Which sample distribution did the test methods have a hard time? Did you correctly guess this?\n",
        "* Is too much lower than the specified Type I error threshold a good thing? Why or why not? (hints: think power)\n",
        "* What is the effect of `n` that you have seen? What does this imply for large `n`? Can you verify your guess with code?"
      ]
    },
    {
      "cell_type": "markdown",
      "id": "15240d69-ae16-476f-a66a-7973357b705e",
      "metadata": {
        "id": "15240d69-ae16-476f-a66a-7973357b705e"
      },
      "source": [
        "**Optional question:** for those who are curious, re-do steps 4, 5, 6 above for an alternative value instead of the true value\n",
        "to compare the powers between the testing methods."
      ]
    },
    {
      "cell_type": "code",
      "execution_count": null,
      "id": "dcfbc32c-42f3-4bd9-8966-059b6b9ba231",
      "metadata": {
        "id": "dcfbc32c-42f3-4bd9-8966-059b6b9ba231"
      },
      "outputs": [],
      "source": []
    }
  ],
  "metadata": {
    "kernelspec": {
      "display_name": "Python 3 (ipykernel)",
      "language": "python",
      "name": "python3"
    },
    "language_info": {
      "codemirror_mode": {
        "name": "ipython",
        "version": 3
      },
      "file_extension": ".py",
      "mimetype": "text/x-python",
      "name": "python",
      "nbconvert_exporter": "python",
      "pygments_lexer": "ipython3",
      "version": "3.9.6"
    },
    "colab": {
      "provenance": [],
      "include_colab_link": true
    }
  },
  "nbformat": 4,
  "nbformat_minor": 5
}