{
  "cells": [
    {
      "cell_type": "markdown",
      "metadata": {
        "id": "view-in-github",
        "colab_type": "text"
      },
      "source": [
        "<a href=\"https://colab.research.google.com/github/cbsebastian24/Trex/blob/main/Copy_of_module_project_3.ipynb\" target=\"_parent\"><img src=\"https://colab.research.google.com/assets/colab-badge.svg\" alt=\"Open In Colab\"/></a>"
      ]
    },
    {
      "cell_type": "markdown",
      "metadata": {
        "id": "JskMriQBIF92"
      },
      "source": [
        "# Module Project 3\n",
        "\n",
        "> Back Bay National Wildlife Refuge is located in the southeastern corner of the City of Virginia Beach. The refuge was established in 1938 to protect and provide habitat for migrating and wintering waterfowl. Diverse habitats, including beachfront, freshwater marsh, dunes, shrub-scrub and upland forest are home to hundreds of species of birds, reptiles, amphibians, mammals and fish.\n",
        "\n",
        "![BNWR](https://www.fws.gov/sites/default/files/styles/banner_image_xl/public/banner_images/2020-09/waterfowl%20%28tundras%29.jpg?h=0c8d0f81&itok=NcZlpD27)\n",
        "\n",
        "\n",
        "To get introduced to the park and its history, please view the following interactive story map.\n",
        "\n",
        "[BBNWR History and Introduction](https://storymaps.arcgis.com/stories/960d9db38cca4f3d8d38111119b9874f)\n",
        "\n",
        "Additionally, here is some drone footage of the park for a better look at the geography and ecology of the area.\n",
        "\n",
        "[BBNWR Drone Footage](https://www.youtube.com/watch?v=NlW330aBTCc)"
      ]
    },
    {
      "cell_type": "code",
      "metadata": {
        "id": "zF4G8m2kIF96"
      },
      "source": [
        "import os\n",
        "import pandas as pd\n",
        "import numpy as np\n",
        "import seaborn as sb\n",
        "import statsmodels.api as sm\n",
        "import scipy.stats as sps\n",
        "import statsmodels.stats.proportion as prop"
      ],
      "execution_count": 1,
      "outputs": []
    },
    {
      "cell_type": "code",
      "metadata": {
        "colab": {
          "base_uri": "https://localhost:8080/"
        },
        "id": "a05W3oYlIF97",
        "outputId": "c1794c62-1821-4389-a9df-4b4ecd215d6d"
      },
      "source": [
        "bbnwr = pd.read_csv(\"https://raw.githubusercontent.com/UM-Data-Science-101/homework-09/refs/heads/main/BKB_WaterQualityData_2020084.csv\")\n",
        "bbnwr.columns"
      ],
      "execution_count": 2,
      "outputs": [
        {
          "output_type": "execute_result",
          "data": {
            "text/plain": [
              "Index(['Site_Id', 'Unit_Id', 'Read_Date', 'Salinity (ppt)',\n",
              "       'Dissolved Oxygen (mg/L)', 'pH (standard units)', 'Secchi Depth (m)',\n",
              "       'Water Depth (m)', 'Water Temp (?C)', 'Air Temp-Celsius',\n",
              "       'Air Temp (?F)', 'Time (24:00)', 'Field_Tech', 'DateVerified',\n",
              "       'WhoVerified', 'AirTemp (C)', 'Year'],\n",
              "      dtype='object')"
            ]
          },
          "metadata": {},
          "execution_count": 2
        }
      ]
    },
    {
      "cell_type": "code",
      "metadata": {
        "id": "ojrhicfTIF97"
      },
      "source": [
        "bbnwr[\"Site_Id\"] = bbnwr[\"Site_Id\"].replace({'d': 'D'})"
      ],
      "execution_count": 3,
      "outputs": []
    },
    {
      "cell_type": "markdown",
      "metadata": {
        "id": "UwvR8K6SIF98"
      },
      "source": [
        "## Question 1\n",
        "\n",
        "### Q1a\n",
        "\n",
        "The water in BBNWR is a mix of fresh water and sea water. Sea water has an average salinity of 35 ppt (parts per thousand). Because fresh water flows into the Bay, however, the level of salinity can be much lower, depending how much fresh water enters the system. Such systems are described through a tiered system of descriptions based on the amount of salt in the water.\n",
        "\n",
        "A oligohaline mixture is one in which the saline content is between 0.5 - 5.0. More details on [classifying estuaries can be found in this EPA report](https://www.epa.gov/sites/default/files/2015-09/documents/2009_03_13_estuaries_monitor_chap14.pdf).\n",
        "\n",
        "Let's test the theory that the measurements from the Bay come from a oligohaline mixture or a mixture with more saline content, so that salinity is more than 0.5.\n",
        "\n",
        "For this hypothesis test will we use a $\\alpha$-level (maximum Type I error probability) of $0.0015$.\n",
        "\n",
        "Clearly state:\n",
        "\n",
        "- The null hypothesis\n",
        "- The alternative hypothesis\n",
        "- A suitable test statistic\n",
        "- The standard error of this test statistic\n",
        "- A rejection region that will have probability of including the test statistic 0.0015 when the null hypothesis is true.\n",
        "\n",
        "Null hypothesis: The true mean salinity in the bay is less than or equal to 0.5. Alternative hypothesis: The true mean salininity in the bay is greater than 0.5. Test statistic is T = (X - 0.5)/(S/squareroot(n)) where X is the sample mean salinity and S is standard deviation. The standard error test statistic would be S/(squareroot(n)). The rejection region would be the 0.15% of the area to the right of the t-distribution, which depends on the sameple size where degrees of freedom is n-1.\n",
        "\n",
        "\n",
        "\n",
        "### Q1b\n",
        "\n",
        "Now that we have described our hypothesis test, compute all quantities needed to compute the test statistic, standard error, and rejection region. You may find it helpful to create a table that only includes observations from the Bay with non-missing values for \"Salinity (ppt)\"."
      ]
    },
    {
      "cell_type": "code",
      "metadata": {
        "id": "fr1JHpLBIF98",
        "colab": {
          "base_uri": "https://localhost:8080/"
        },
        "outputId": "a991e6b6-694d-4498-ccb3-58381da2fc8e"
      },
      "source": [
        "# compute quantities\n",
        "bay = bbnwr[bbnwr[\"Site_Id\"].str.contains(\"Bay\", case = False, na = False)]\n",
        "#case should ignore lowercase and na = false ignores missing entries\n",
        "bay = bay[bay[\"Salinity (ppt)\"].notna()]\n",
        "#should pull all bay and salinity data\n",
        "\n",
        "alpha = 0.0015\n",
        "u = 0.5\n",
        "xbar = bay[\"Salinity (ppt)\"].mean()\n",
        "#sample mean\n",
        "s = bay[\"Salinity (ppt)\"].std()\n",
        "#standard deviation\n",
        "n = len(bay)\n",
        "#sample size\n",
        "Se = s/np.sqrt(n)\n",
        "#standard error\n",
        "t = (xbar - u)/(Se)\n",
        "#test statistic\n",
        "tCrit = sps.t.ppf(1-alpha, df = n-1)\n",
        "reject = t >= tCrit\n",
        "#critical value\n",
        "print(\"Mean is \")\n",
        "print(xbar)\n",
        "print(\"Standard deviation is \")\n",
        "print(s)\n",
        "print(\"Sample size is \")\n",
        "print(n)\n",
        "print(\"Standard error is \")\n",
        "print(Se)\n",
        "print(\"Test statistic is \")\n",
        "print(t)\n",
        "print(\"The critical value is \")\n",
        "print(tCrit)\n",
        "print(f\"Rejection region: T >= {tCrit:.4f}\")\n",
        "\n"
      ],
      "execution_count": 21,
      "outputs": [
        {
          "output_type": "stream",
          "name": "stdout",
          "text": [
            "Mean is \n",
            "1.4831536388140159\n",
            "Standard deviation is \n",
            "1.5775927700212167\n",
            "Sample size is \n",
            "742\n",
            "Standard error is \n",
            "0.057915252566277\n",
            "Test statistic is \n",
            "16.97572910847476\n",
            "The critical value is \n",
            "2.9775877713215264\n",
            "Rejection region: T >= 2.9776\n"
          ]
        }
      ]
    },
    {
      "cell_type": "markdown",
      "metadata": {
        "id": "bQJ_TYGoIF98"
      },
      "source": [
        "### Q1c\n",
        "\n",
        "Perform the hypothesis test. Clearly state whether you reject or fail to reject the null hypothesis. Interpret this result with result to the original question of whether the average salinity of the Bay is consistent with a oligohaline (or more extreme) mixture.\n"
      ]
    },
    {
      "cell_type": "code",
      "metadata": {
        "id": "qgkztKHMIF99",
        "colab": {
          "base_uri": "https://localhost:8080/"
        },
        "outputId": "20022083-d94c-4a3d-9b07-ae9aac061665"
      },
      "source": [
        "# perform test\n",
        "if reject:\n",
        "    print(\"Reject null hypothesis, the average salinity is greater than 0.5\")\n",
        "else:\n",
        "    print(\"Fail to reject null hypothesis that the average salinity is less than or equal to 0.5\")\n",
        "\n",
        "print(\"The hypothesis test indicates that the average salinity of the Bay is significantly greater than 0.5 ppt. Thererfore the Bays water is atleast an olgohaline mixture.\")"
      ],
      "execution_count": 31,
      "outputs": [
        {
          "output_type": "stream",
          "name": "stdout",
          "text": [
            "Fail to reject null hypothesis that the average salinity is less than or equal to 0.5\n",
            "The hypothesis test indicates that the average salinity of the Bay is significantly greater than 0.5 ppt. Thererfore the Bays water is atleast an olgohaline mixture.\n"
          ]
        }
      ]
    },
    {
      "cell_type": "markdown",
      "metadata": {
        "id": "e-V6WBt0IF99"
      },
      "source": [
        "### Q1d\n",
        "\n",
        "We could also approach this question by creating a confidence interval for the average salinity in the population of all measurements in the Bay.\n",
        "\n",
        "Using the quantities above, create a 99.7% confidence interval of the average salinity of the Bay. What does this interval tell us about the following table of salinity mixture tiers:\n",
        "\n",
        "| Level | Salinity |\n",
        "| ----- | -------- |\n",
        "| Fresh Water | < 0.5 ppt |\n",
        "| Oligohaline | 0.5 -- 5.0 ppt|\n",
        "| Mesohaline | 5.0-18.0 ppt|\n",
        "| Polyhaline | 18.0­ -- 30 ppt |\n",
        "| Ocean | > 30 ppt |\n"
      ]
    },
    {
      "cell_type": "code",
      "metadata": {
        "id": "dP4OTzEIIF99",
        "colab": {
          "base_uri": "https://localhost:8080/"
        },
        "outputId": "ca497f96-34a8-4c5f-b923-d2db229b3465"
      },
      "source": [
        "# confidence interval\n",
        "u = 0.5\n",
        "alpha = 1-0.997\n",
        "xbar = bay[\"Salinity (ppt)\"].mean()\n",
        "s = bay[\"Salinity (ppt)\"].std()\n",
        "n = len(bay)\n",
        "Se = s/np.sqrt(n)\n",
        "\n",
        "t = sps.t.ppf(1-alpha/2, df = n-1)\n",
        "lower = xbar - t*Se\n",
        "upper = xbar + t*Se\n",
        "\n",
        "print(f\"The 99.7% confidence interval is ({lower:.4f}, {upper:.4f})\")\n",
        "print(f\"This tells us that the confidence interval is consistent with the olgohaline mixture.\")"
      ],
      "execution_count": 24,
      "outputs": [
        {
          "output_type": "stream",
          "name": "stdout",
          "text": [
            "The 99.7% confidence interval is (1.3107, 1.6556)\n",
            "This tells us that the confidence interval is consistent with the olgohaline mixture.\n"
          ]
        }
      ]
    },
    {
      "cell_type": "markdown",
      "metadata": {
        "id": "NWbR4V8GIF9-"
      },
      "source": [
        "Which of these levels can be ruled out for the Bay?\n",
        "\n",
        "Fresh water, Mesohaline, Polyhaline, and ocean levels can be ruled out for the Bay because 99.7% confidence interval lies aboves the 0.5 ppt and below the 5.0 ppt. Therefore, the average salinity of Bay is likely an olgohaline mixture.\n",
        "\n",
        "## Question 2\n",
        "\n",
        "### Q2a\n",
        "\n",
        "A [Secchi disk](https://en.wikipedia.org/wiki/Secchi_disk) is a device used to measure the clarity of water by submerging the disk and measuring the depth at which it is no longer visible.\n",
        "\n",
        "![Secchi Disk](https://upload.wikimedia.org/wikipedia/commons/thumb/0/0b/Secchi_disk_pattern.svg/240px-Secchi_disk_pattern.svg.png)\n",
        "\n",
        "A common definition of \"clear water\" is being able to view a Secchi disk at 4m. In the case of the BBNWR, most of the depths are less than 4m:\n"
      ]
    },
    {
      "cell_type": "code",
      "metadata": {
        "colab": {
          "base_uri": "https://localhost:8080/",
          "height": 466
        },
        "id": "Blmlz44FIF9-",
        "outputId": "c3e3850b-7027-4732-b19b-63e3f5161bde"
      },
      "source": [
        "sb.histplot(data = bbnwr, x = \"Water Depth (m)\")"
      ],
      "execution_count": 13,
      "outputs": [
        {
          "output_type": "execute_result",
          "data": {
            "text/plain": [
              "<Axes: xlabel='Water Depth (m)', ylabel='Count'>"
            ]
          },
          "metadata": {},
          "execution_count": 13
        },
        {
          "output_type": "display_data",
          "data": {
            "text/plain": [
              "<Figure size 640x480 with 1 Axes>"
            ],
            "image/png": "[encoded data removed]"
          },
          "metadata": {}
        }
      ]
    },
    {
      "cell_type": "markdown",
      "metadata": {
        "id": "VTutmogjIF9-"
      },
      "source": [
        "Create a new column \"clear\" that is `True` if either of the following conditions is met:\n",
        "\n",
        "- The \"Secchi Depth (m)\" is at least 4m\n",
        "- The \"Secchi Depth (m)\" is at least as large as the \"Water Depth (m)\" (due to small differences due to waves/location/etc\n",
        " Secchi Depth can be (slightly) greater than Water Depth)\n",
        "\n",
        " Display the proportion of \"clear\" observations.\n"
      ]
    },
    {
      "cell_type": "code",
      "metadata": {
        "id": "J-lecWNYIF9-",
        "colab": {
          "base_uri": "https://localhost:8080/"
        },
        "outputId": "4e48398e-1282-4a83-ff8a-258e07031dc6"
      },
      "source": [
        "# proprotion of clear observations\n",
        "bbnwr[\"clear\"] = (bbnwr[\"Secchi Depth (m)\"] >= 4) | (bbnwr[\"Secchi Depth (m)\"] >= bbnwr[\"Water Depth (m)\"])\n",
        "\n",
        "propClear = bbnwr[\"clear\"].mean()\n",
        "print(f\"The proportion of clear observations is {propClear:.4f}\")\n"
      ],
      "execution_count": 28,
      "outputs": [
        {
          "output_type": "stream",
          "name": "stdout",
          "text": [
            "The proportion of clear observations is 0.3889\n"
          ]
        }
      ]
    },
    {
      "cell_type": "markdown",
      "metadata": {
        "id": "xGj9Qdo_IF9-"
      },
      "source": [
        "### Q2b\n",
        "\n",
        "Test the hypothesis  that the population proportion of clear measurements is 37% against the alternative that it is not equal to 37%.\n",
        "\n",
        "Use $\\alpha = 0.05$. Clearly state if you reject or fail to reject this hypothesis."
      ]
    },
    {
      "cell_type": "code",
      "metadata": {
        "id": "2vVLlszDIF9-",
        "colab": {
          "base_uri": "https://localhost:8080/"
        },
        "outputId": "f4e4ec6c-1cab-4ae4-ce92-7b7066786cc3"
      },
      "source": [
        "# test\n",
        "alpha = 0.05\n",
        "p = bbnwr[\"clear\"].mean()\n",
        "n = len(bbnwr)\n",
        "p0 = 0.37\n",
        "Se = np.sqrt(p0*(1-p0)/n)\n",
        "z = (p-p0)/Se\n",
        "pVal = 2*(1-sps.norm.cdf(abs(z)))\n",
        "reject = pVal < alpha\n",
        "print(f\"The test statistic is {z:.4f}\")\n",
        "print(f\"The p-value is {pVal:.4f}\")\n",
        "print(f\"Rejection region: Z < -1.96 or Z > 1.96\")\n",
        "if reject:\n",
        "    print(\"Reject null hypothesis that the population proportion is equal to 37%\")\n",
        "else:\n",
        "    print(\"Fail to reject null hypothesis that the population proportion is equal to 37%\")\n"
      ],
      "execution_count": 36,
      "outputs": [
        {
          "output_type": "stream",
          "name": "stdout",
          "text": [
            "The test statistic is 1.9027\n",
            "The p-value is 0.0571\n",
            "Rejection region: Z < -1.96 or Z > 1.96\n",
            "Fail to reject null hypothesis that the population proportion is equal to 37%\n"
          ]
        }
      ]
    },
    {
      "cell_type": "markdown",
      "metadata": {
        "id": "A-eV0RQTIF9_"
      },
      "source": [
        "Fail to reject null hypothesis that the population proportion is equal to 37%\n",
        "\n",
        "### Q2c\n",
        "\n",
        "Referring the result from the previous section, compute the $p$-value for this hypothesis."
      ]
    },
    {
      "cell_type": "code",
      "metadata": {
        "id": "qIOcWzeyIF9_",
        "colab": {
          "base_uri": "https://localhost:8080/"
        },
        "outputId": "b9bba311-8dca-4a8c-edc8-252c0c3b0276"
      },
      "source": [
        "# you will find sps.norm.cdf helpful\n",
        "pVal = 2*(1-sps.norm.cdf(abs(z)))\n",
        "print(f\"The p-value is {pVal:.4f}\")"
      ],
      "execution_count": 34,
      "outputs": [
        {
          "output_type": "stream",
          "name": "stdout",
          "text": [
            "The p-value is 0.0571\n"
          ]
        }
      ]
    },
    {
      "cell_type": "markdown",
      "metadata": {
        "id": "bwijOaSjIF9_"
      },
      "source": [
        "Consider three different people:\n",
        "\n",
        "- Person A has a 10% tolerance for Type I errors\n",
        "- Person B has a 5% tolerance for Type I errors\n",
        "- Person C has a 1% tolerance for Type I errors\n",
        "\n",
        "\n",
        "Which of these people (if any) would reject the null hypothesis that 37% of all possible measurements would be clear. Justify your answer.\n",
        "\n"
      ]
    },
    {
      "cell_type": "markdown",
      "source": [
        "Person A would reject the null hypothesis since the p value fo 0.0571 is less than 0.1. Person B and C would not reject the null hypothesis since the tolerance are less than the p value."
      ],
      "metadata": {
        "id": "Msa3XvQ-kETU"
      }
    },
    {
      "cell_type": "markdown",
      "source": [
        "### Q2d\n",
        "\n",
        "Using values you computed in the previous sections, create a 95% confidence interval for the proportion of clear observations in the population of all observations.\n",
        "\n",
        "Note: you will need to use the estimated standard error of the sample proportion ($\\hat p$) of: $\\sqrt{\\frac{\\hat p(1-\\hat p)}{n}}$.\n",
        "\n",
        "Interpret this result in words."
      ],
      "metadata": {
        "id": "5OEtm2e1kDF-"
      }
    },
    {
      "cell_type": "code",
      "metadata": {
        "id": "ci_USJNxIF9_",
        "colab": {
          "base_uri": "https://localhost:8080/"
        },
        "outputId": "3905a3cb-7eaa-4cb8-d6cd-6edd0f7de4ac"
      },
      "source": [
        "# confidence interval\n",
        "p = bbnwr[\"clear\"].mean()\n",
        "n = bbnwr[\"clear\"].notna().sum()\n",
        "#for counting only valid data\n",
        "Se = np.sqrt(p*(1-p)/n)\n",
        "Z = sps.norm.ppf(1-alpha/2)\n",
        "lower = p - Z*Se\n",
        "upper = p + Z*Se\n",
        "print(f\"The 95% confidence interval is ({lower:.4f}, {upper:.4f})\")"
      ],
      "execution_count": 48,
      "outputs": [
        {
          "output_type": "stream",
          "name": "stdout",
          "text": [
            "The 95% confidence interval is (0.3692, 0.4085)\n"
          ]
        }
      ]
    },
    {
      "cell_type": "markdown",
      "source": [
        "The 95% confidence interval for the proportion of clear observations is (0.3692, 0.4085). This means that we are 95% confident that between 36.9% and 40.9% of all possible measurements are clear which is consistent with our null hypothesis that 37% of the population proportion is clear."
      ],
      "metadata": {
        "id": "qT_hf4HKHoCI"
      }
    },
    {
      "cell_type": "markdown",
      "source": [
        "## Question 3\n",
        "\n",
        "Select another column from the list:\n",
        "\n",
        "- `'pH (standard units)'`\n",
        "- `'Water Temp (?C)'`\n",
        "- `'AirTemp (C)'`\n",
        "\n",
        "Wrtie the column name here: pH"
      ],
      "metadata": {
        "id": "hnbEKDLEHtjZ"
      }
    },
    {
      "cell_type": "markdown",
      "source": [
        "### Q3a\n",
        "\n"
      ],
      "metadata": {
        "id": "BuOKVmImIL07"
      }
    },
    {
      "cell_type": "code",
      "source": [
        "bbnwr[[\"pH (standard units)\", \"Water Temp (?C)\", \"AirTemp (C)\"]].aggregate([\"min\", \"max\"])"
      ],
      "metadata": {
        "colab": {
          "base_uri": "https://localhost:8080/",
          "height": 111
        },
        "id": "Saqbwm4hIhcs",
        "outputId": "9e58b25d-add2-425d-944a-74423f8ed1c6"
      },
      "execution_count": 33,
      "outputs": [
        {
          "output_type": "execute_result",
          "data": {
            "text/plain": [
              "     pH (standard units)  Water Temp (?C)  AirTemp (C)\n",
              "min                  0.3              0.0   -17.777778\n",
              "max                  9.9             74.0    33.500000"
            ],
            "text/html": [
              "\n",
              "  <div id=\"df-af173e7e-dba6-45a5-b7e2-8b78fb520bcd\" class=\"colab-df-container\">\n",
              "    <div>\n",
              "<style scoped>\n",
              "    .dataframe tbody tr th:only-of-type {\n",
              "        vertical-align: middle;\n",
              "    }\n",
              "\n",
              "    .dataframe tbody tr th {\n",
              "        vertical-align: top;\n",
              "    }\n",
              "\n",
              "    .dataframe thead th {\n",
              "        text-align: right;\n",
              "    }\n",
              "</style>\n",
              "<table border=\"1\" class=\"dataframe\">\n",
              "  <thead>\n",
              "    <tr style=\"text-align: right;\">\n",
              "      <th></th>\n",
              "      <th>pH (standard units)</th>\n",
              "      <th>Water Temp (?C)</th>\n",
              "      <th>AirTemp (C)</th>\n",
              "    </tr>\n",
              "  </thead>\n",
              "  <tbody>\n",
              "    <tr>\n",
              "      <th>min</th>\n",
              "      <td>0.3</td>\n",
              "      <td>0.0</td>\n",
              "      <td>-17.777778</td>\n",
              "    </tr>\n",
              "    <tr>\n",
              "      <th>max</th>\n",
              "      <td>9.9</td>\n",
              "      <td>74.0</td>\n",
              "      <td>33.500000</td>\n",
              "    </tr>\n",
              "  </tbody>\n",
              "</table>\n",
              "</div>\n",
              "    <div class=\"colab-df-buttons\">\n",
              "\n",
              "  <div class=\"colab-df-container\">\n",
              "    <button class=\"colab-df-convert\" onclick=\"convertToInteractive('df-af173e7e-dba6-45a5-b7e2-8b78fb520bcd')\"\n",
              "            title=\"Convert this dataframe to an interactive table.\"\n",
              "            style=\"display:none;\">\n",
              "\n",
              "  <svg xmlns=\"http://www.w3.org/2000/svg\" height=\"24px\" viewBox=\"0 -960 960 960\">\n",
              "    <path d=\"M120-120v-720h720v720H120Zm60-500h600v-160H180v160Zm220 220h160v-160H400v160Zm0 220h160v-160H400v160ZM180-400h160v-160H180v160Zm440 0h160v-160H620v160ZM180-180h160v-160H180v160Zm440 0h160v-160H620v160Z\"/>\n",
              "  </svg>\n",
              "    </button>\n",
              "\n",
              "  <style>\n",
              "    .colab-df-container {\n",
              "      display:flex;\n",
              "      gap: 12px;\n",
              "    }\n",
              "\n",
              "    .colab-df-convert {\n",
              "      background-color: #E8F0FE;\n",
              "      border: none;\n",
              "      border-radius: 50%;\n",
              "      cursor: pointer;\n",
              "      display: none;\n",
              "      fill: #1967D2;\n",
              "      height: 32px;\n",
              "      padding: 0 0 0 0;\n",
              "      width: 32px;\n",
              "    }\n",
              "\n",
              "    .colab-df-convert:hover {\n",
              "      background-color: #E2EBFA;\n",
              "      box-shadow: 0px 1px 2px rgba(60, 64, 67, 0.3), 0px 1px 3px 1px rgba(60, 64, 67, 0.15);\n",
              "      fill: #174EA6;\n",
              "    }\n",
              "\n",
              "    .colab-df-buttons div {\n",
              "      margin-bottom: 4px;\n",
              "    }\n",
              "\n",
              "    [theme=dark] .colab-df-convert {\n",
              "      background-color: #3B4455;\n",
              "      fill: #D2E3FC;\n",
              "    }\n",
              "\n",
              "    [theme=dark] .colab-df-convert:hover {\n",
              "      background-color: #434B5C;\n",
              "      box-shadow: 0px 1px 3px 1px rgba(0, 0, 0, 0.15);\n",
              "      filter: drop-shadow(0px 1px 2px rgba(0, 0, 0, 0.3));\n",
              "      fill: #FFFFFF;\n",
              "    }\n",
              "  </style>\n",
              "\n",
              "    <script>\n",
              "      const buttonEl =\n",
              "        document.querySelector('#df-af173e7e-dba6-45a5-b7e2-8b78fb520bcd button.colab-df-convert');\n",
              "      buttonEl.style.display =\n",
              "        google.colab.kernel.accessAllowed ? 'block' : 'none';\n",
              "\n",
              "      async function convertToInteractive(key) {\n",
              "        const element = document.querySelector('#df-af173e7e-dba6-45a5-b7e2-8b78fb520bcd');\n",
              "        const dataTable =\n",
              "          await google.colab.kernel.invokeFunction('convertToInteractive',\n",
              "                                                    [key], {});\n",
              "        if (!dataTable) return;\n",
              "\n",
              "        const docLinkHtml = 'Like what you see? Visit the ' +\n",
              "          '<a target=\"_blank\" href=https://colab.research.google.com/notebooks/data_table.ipynb>data table notebook</a>'\n",
              "          + ' to learn more about interactive tables.';\n",
              "        element.innerHTML = '';\n",
              "        dataTable['output_type'] = 'display_data';\n",
              "        await google.colab.output.renderOutput(dataTable, element);\n",
              "        const docLink = document.createElement('div');\n",
              "        docLink.innerHTML = docLinkHtml;\n",
              "        element.appendChild(docLink);\n",
              "      }\n",
              "    </script>\n",
              "  </div>\n",
              "\n",
              "\n",
              "    <div id=\"df-4e86b06c-795b-431e-a300-ca0535531955\">\n",
              "      <button class=\"colab-df-quickchart\" onclick=\"quickchart('df-4e86b06c-795b-431e-a300-ca0535531955')\"\n",
              "                title=\"Suggest charts\"\n",
              "                style=\"display:none;\">\n",
              "\n",
              "<svg xmlns=\"http://www.w3.org/2000/svg\" height=\"24px\"viewBox=\"0 0 24 24\"\n",
              "     width=\"24px\">\n",
              "    <g>\n",
              "        <path d=\"M19 3H5c-1.1 0-2 .9-2 2v14c0 1.1.9 2 2 2h14c1.1 0 2-.9 2-2V5c0-1.1-.9-2-2-2zM9 17H7v-7h2v7zm4 0h-2V7h2v10zm4 0h-2v-4h2v4z\"/>\n",
              "    </g>\n",
              "</svg>\n",
              "      </button>\n",
              "\n",
              "<style>\n",
              "  .colab-df-quickchart {\n",
              "      --bg-color: #E8F0FE;\n",
              "      --fill-color: #1967D2;\n",
              "      --hover-bg-color: #E2EBFA;\n",
              "      --hover-fill-color: #174EA6;\n",
              "      --disabled-fill-color: #AAA;\n",
              "      --disabled-bg-color: #DDD;\n",
              "  }\n",
              "\n",
              "  [theme=dark] .colab-df-quickchart {\n",
              "      --bg-color: #3B4455;\n",
              "      --fill-color: #D2E3FC;\n",
              "      --hover-bg-color: #434B5C;\n",
              "      --hover-fill-color: #FFFFFF;\n",
              "      --disabled-bg-color: #3B4455;\n",
              "      --disabled-fill-color: #666;\n",
              "  }\n",
              "\n",
              "  .colab-df-quickchart {\n",
              "    background-color: var(--bg-color);\n",
              "    border: none;\n",
              "    border-radius: 50%;\n",
              "    cursor: pointer;\n",
              "    display: none;\n",
              "    fill: var(--fill-color);\n",
              "    height: 32px;\n",
              "    padding: 0;\n",
              "    width: 32px;\n",
              "  }\n",
              "\n",
              "  .colab-df-quickchart:hover {\n",
              "    background-color: var(--hover-bg-color);\n",
              "    box-shadow: 0 1px 2px rgba(60, 64, 67, 0.3), 0 1px 3px 1px rgba(60, 64, 67, 0.15);\n",
              "    fill: var(--button-hover-fill-color);\n",
              "  }\n",
              "\n",
              "  .colab-df-quickchart-complete:disabled,\n",
              "  .colab-df-quickchart-complete:disabled:hover {\n",
              "    background-color: var(--disabled-bg-color);\n",
              "    fill: var(--disabled-fill-color);\n",
              "    box-shadow: none;\n",
              "  }\n",
              "\n",
              "  .colab-df-spinner {\n",
              "    border: 2px solid var(--fill-color);\n",
              "    border-color: transparent;\n",
              "    border-bottom-color: var(--fill-color);\n",
              "    animation:\n",
              "      spin 1s steps(1) infinite;\n",
              "  }\n",
              "\n",
              "  @keyframes spin {\n",
              "    0% {\n",
              "      border-color: transparent;\n",
              "      border-bottom-color: var(--fill-color);\n",
              "      border-left-color: var(--fill-color);\n",
              "    }\n",
              "    20% {\n",
              "      border-color: transparent;\n",
              "      border-left-color: var(--fill-color);\n",
              "      border-top-color: var(--fill-color);\n",
              "    }\n",
              "    30% {\n",
              "      border-color: transparent;\n",
              "      border-left-color: var(--fill-color);\n",
              "      border-top-color: var(--fill-color);\n",
              "      border-right-color: var(--fill-color);\n",
              "    }\n",
              "    40% {\n",
              "      border-color: transparent;\n",
              "      border-right-color: var(--fill-color);\n",
              "      border-top-color: var(--fill-color);\n",
              "    }\n",
              "    60% {\n",
              "      border-color: transparent;\n",
              "      border-right-color: var(--fill-color);\n",
              "    }\n",
              "    80% {\n",
              "      border-color: transparent;\n",
              "      border-right-color: var(--fill-color);\n",
              "      border-bottom-color: var(--fill-color);\n",
              "    }\n",
              "    90% {\n",
              "      border-color: transparent;\n",
              "      border-bottom-color: var(--fill-color);\n",
              "    }\n",
              "  }\n",
              "</style>\n",
              "\n",
              "      <script>\n",
              "        async function quickchart(key) {\n",
              "          const quickchartButtonEl =\n",
              "            document.querySelector('#' + key + ' button');\n",
              "          quickchartButtonEl.disabled = true;  // To prevent multiple clicks.\n",
              "          quickchartButtonEl.classList.add('colab-df-spinner');\n",
              "          try {\n",
              "            const charts = await google.colab.kernel.invokeFunction(\n",
              "                'suggestCharts', [key], {});\n",
              "          } catch (error) {\n",
              "            console.error('Error during call to suggestCharts:', error);\n",
              "          }\n",
              "          quickchartButtonEl.classList.remove('colab-df-spinner');\n",
              "          quickchartButtonEl.classList.add('colab-df-quickchart-complete');\n",
              "        }\n",
              "        (() => {\n",
              "          let quickchartButtonEl =\n",
              "            document.querySelector('#df-4e86b06c-795b-431e-a300-ca0535531955 button');\n",
              "          quickchartButtonEl.style.display =\n",
              "            google.colab.kernel.accessAllowed ? 'block' : 'none';\n",
              "        })();\n",
              "      </script>\n",
              "    </div>\n",
              "\n",
              "    </div>\n",
              "  </div>\n"
            ],
            "application/vnd.google.colaboratory.intrinsic+json": {
              "type": "dataframe",
              "summary": "{\n  \"name\": \"bbnwr[[\\\"pH (standard units)\\\", \\\"Water Temp (?C)\\\", \\\"AirTemp (C)\\\"]]\",\n  \"rows\": 2,\n  \"fields\": [\n    {\n      \"column\": \"pH (standard units)\",\n      \"properties\": {\n        \"dtype\": \"number\",\n        \"std\": 6.788225099390857,\n        \"min\": 0.3,\n        \"max\": 9.9,\n        \"num_unique_values\": 2,\n        \"samples\": [\n          9.9,\n          0.3\n        ],\n        \"semantic_type\": \"\",\n        \"description\": \"\"\n      }\n    },\n    {\n      \"column\": \"Water Temp (?C)\",\n      \"properties\": {\n        \"dtype\": \"number\",\n        \"std\": 52.32590180780452,\n        \"min\": 0.0,\n        \"max\": 74.0,\n        \"num_unique_values\": 2,\n        \"samples\": [\n          74.0,\n          0.0\n        ],\n        \"semantic_type\": \"\",\n        \"description\": \"\"\n      }\n    },\n    {\n      \"column\": \"AirTemp (C)\",\n      \"properties\": {\n        \"dtype\": \"number\",\n        \"std\": 36.25886439241487,\n        \"min\": -17.77777778,\n        \"max\": 33.5,\n        \"num_unique_values\": 2,\n        \"samples\": [\n          33.5,\n          -17.77777778\n        ],\n        \"semantic_type\": \"\",\n        \"description\": \"\"\n      }\n    }\n  ]\n}"
            }
          },
          "metadata": {},
          "execution_count": 33
        }
      ]
    },
    {
      "cell_type": "markdown",
      "source": [
        "Above are the minimum and maximum observed values for these variables. Assuming that the population ranges would be similar, **state a theory of the average value** for your selected variable. Where do you think it will be? (Do not graph or otherwise calculate anything about these columns -- you will not be judged on being correct later, so don't worry if you are wrong.)\n",
        "\n",
        "*double click to edit*"
      ],
      "metadata": {
        "id": "IN_cUeD4J9M8"
      }
    },
    {
      "cell_type": "markdown",
      "source": [
        "Turn your theory into a hypothesis test. Be careful about selecting the appropriate hypothesis to represent your theory. Fill in the following:\n",
        "\n",
        "- Population parameter: The true mean pH of the Bay\n",
        "- Parameter space: 0-14 or pH scale\n",
        "- $H_0$: average pH is 7.0 on average\n",
        "- $H_1$: the average pH is not 7.0\n",
        "- Test statistic:\n",
        "- Null distribution:\n",
        "- Alternative distribution:\n",
        "- $\\alpha$-level (your choice!):\n",
        "- Rejection Region:\n",
        "- This is a one tailed or a two tailed test?"
      ],
      "metadata": {
        "id": "j63UemynKrFa"
      }
    },
    {
      "cell_type": "markdown",
      "source": [
        "### Q3b\n",
        "\n",
        "Perform your hypothesis test. Comment on the results. What do the results mean about your theory?"
      ],
      "metadata": {
        "id": "Rc7rYMYiL-SZ"
      }
    },
    {
      "cell_type": "code",
      "source": [
        "u = 7\n",
        "xbar = bbnwr[\"pH (standard units)\"].mean()\n",
        "s = bbnwr[\"pH (standard units)\"].std()\n",
        "n = len(bbnwr)\n",
        "Se = s/np.sqrt(n)\n",
        "t = (xbar - u)/(Se)\n",
        "tCrit = sps.t.ppf(1-alpha, df = n-1)\n",
        "reject = t >= tCrit"
      ],
      "metadata": {
        "id": "dFeakuSGKpid"
      },
      "execution_count": null,
      "outputs": []
    },
    {
      "cell_type": "markdown",
      "source": [
        "*Comments*"
      ],
      "metadata": {
        "id": "sNnkUvLHMNX7"
      }
    },
    {
      "cell_type": "markdown",
      "source": [
        "### Q3c\n",
        "\n",
        "Regardless of whether you used a one or two tailed test in the previous, create a confidence interval for the population parameter using the same $\\alpha$-level. Interpret the values in the interval. What do they mean? Given what you see in this interval, would you update your theory about the population mean value?\n"
      ],
      "metadata": {
        "id": "HuaGLHp2MPTN"
      }
    },
    {
      "cell_type": "code",
      "source": [
        "# calculation\n"
      ],
      "metadata": {
        "id": "Q719bfakNKEW"
      },
      "execution_count": null,
      "outputs": []
    },
    {
      "cell_type": "markdown",
      "source": [
        "*Interpretation*"
      ],
      "metadata": {
        "id": "35AnUyB-NLdy"
      }
    },
    {
      "cell_type": "code",
      "source": [],
      "metadata": {
        "id": "Uz2f1PpdNMSn"
      },
      "execution_count": null,
      "outputs": []
    },
    {
      "cell_type": "markdown",
      "source": [
        "### Q3d\n",
        "\n",
        "While the mean of the population will be \"in the middle\" of the distribution, it is not guaranteed to be the value such that 50% of the population has smaller values while 50% has larger values (this would be the median).\n",
        "\n",
        "State a hypothesis about the population proportion that would be smaller than your updated guess about the population mean from the previous part.\n",
        "\n",
        "In other words, if $X$ is a random variable representing the population, $c$ is your best guess based on the previous section, what would you now about the value $p$ in the expression:\n",
        "\n",
        "$$P(X \\le c) = p$$"
      ],
      "metadata": {
        "id": "vCHm94UDNNSY"
      }
    },
    {
      "cell_type": "markdown",
      "source": [
        "*your theory*"
      ],
      "metadata": {
        "id": "u87J-98pN_iS"
      }
    },
    {
      "cell_type": "markdown",
      "source": [
        "Turn your theory into a hypothesis test. Be careful about selecting the appropriate hypothesis to represent your theory. Fill in the following:\n",
        "\n",
        "- Population parameter (replace $c$): $P(X \\le c) = p$\n",
        "- Parameter space:\n",
        "- $H_0$:\n",
        "- $H_1$:\n",
        "- Test statistic:\n",
        "- Null distribution:\n",
        "- Alternative distribution:\n",
        "- $\\alpha$-level (your choice!):\n",
        "- Rejection Region:\n",
        "- This is a one tailed or a two tailed test?"
      ],
      "metadata": {
        "id": "sPKfYj8QOXmF"
      }
    },
    {
      "cell_type": "markdown",
      "source": [
        "### Q3e\n",
        "\n",
        "Perform the test and interpret the results."
      ],
      "metadata": {
        "id": "749VS1VGOlZw"
      }
    },
    {
      "cell_type": "code",
      "source": [],
      "metadata": {
        "id": "7l3IS9-lOqth"
      },
      "execution_count": null,
      "outputs": []
    },
    {
      "cell_type": "markdown",
      "source": [],
      "metadata": {
        "id": "lEnBk4QgOq8G"
      }
    },
    {
      "cell_type": "markdown",
      "source": [
        "### Q3d\n",
        "\n",
        "Create a confidence interval for $p$ using the $\\alpha$ you selected in (d). Interpret the results."
      ],
      "metadata": {
        "id": "c9L3HDrLOs9T"
      }
    },
    {
      "cell_type": "code",
      "source": [
        "# calculations"
      ],
      "metadata": {
        "id": "kmJlyUNrOpqa"
      },
      "execution_count": null,
      "outputs": []
    },
    {
      "cell_type": "markdown",
      "source": [
        "Interpretation"
      ],
      "metadata": {
        "id": "Z8pZTrOcO5e1"
      }
    },
    {
      "cell_type": "code",
      "source": [],
      "metadata": {
        "id": "0SH385j0O6TZ"
      },
      "execution_count": null,
      "outputs": []
    }
  ],
  "metadata": {
    "kernelspec": {
      "display_name": "Python 3",
      "language": "python",
      "name": "python3"
    },
    "colab": {
      "provenance": [],
      "include_colab_link": true
    }
  },
  "nbformat": 4,
  "nbformat_minor": 0
}